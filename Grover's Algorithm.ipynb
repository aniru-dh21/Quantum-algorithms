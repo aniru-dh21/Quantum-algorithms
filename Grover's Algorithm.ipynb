{
 "cells": [
  {
   "cell_type": "code",
   "execution_count": 1,
   "metadata": {},
   "outputs": [],
   "source": [
    "import qiskit"
   ]
  },
  {
   "cell_type": "code",
   "execution_count": 2,
   "metadata": {},
   "outputs": [
    {
     "name": "stdout",
     "output_type": "stream",
     "text": [
      "Collecting git+https://github.com/qiskit-community/qiskit-textbook.git#subdirectory=qiskit-textbook-srcNote: you may need to restart the kernel to use updated packages.\n",
      "  Cloning https://github.com/qiskit-community/qiskit-textbook.git to c:\\users\\anirudh\\appdata\\local\\temp\\pip-req-build-rnb2hnii\n",
      "Requirement already satisfied (use --upgrade to upgrade): qiskit-textbook==0.1.0 from git+https://github.com/qiskit-community/qiskit-textbook.git#subdirectory=qiskit-textbook-src in c:\\users\\anirudh\\anaconda3\\lib\\site-packages\n",
      "Requirement already satisfied: qiskit in c:\\users\\anirudh\\anaconda3\\lib\\site-packages (from qiskit-textbook==0.1.0) (0.23.1)\n",
      "Requirement already satisfied: ipython in c:\\users\\anirudh\\anaconda3\\lib\\site-packages (from qiskit-textbook==0.1.0) (7.19.0)\n",
      "Requirement already satisfied: ipywidgets in c:\\users\\anirudh\\anaconda3\\lib\\site-packages (from qiskit-textbook==0.1.0) (7.5.1)\n",
      "Requirement already satisfied: numpy in c:\\users\\anirudh\\anaconda3\\lib\\site-packages (from qiskit-textbook==0.1.0) (1.19.2)\n",
      "Requirement already satisfied: matplotlib in c:\\users\\anirudh\\anaconda3\\lib\\site-packages (from qiskit-textbook==0.1.0) (3.3.2)\n",
      "\n",
      "Requirement already satisfied: qiskit-ibmq-provider==0.11.1 in c:\\users\\anirudh\\anaconda3\\lib\\site-packages (from qiskit->qiskit-textbook==0.1.0) (0.11.1)\n",
      "Requirement already satisfied: qiskit-terra==0.16.1 in c:\\users\\anirudh\\anaconda3\\lib\\site-packages (from qiskit->qiskit-textbook==0.1.0) (0.16.1)\n",
      "Requirement already satisfied: qiskit-ignis==0.5.1 in c:\\users\\anirudh\\anaconda3\\lib\\site-packages (from qiskit->qiskit-textbook==0.1.0) (0.5.1)\n",
      "Requirement already satisfied: qiskit-aqua==0.8.1 in c:\\users\\anirudh\\anaconda3\\lib\\site-packages (from qiskit->qiskit-textbook==0.1.0) (0.8.1)\n",
      "Requirement already satisfied: qiskit-aer==0.7.1 in c:\\users\\anirudh\\anaconda3\\lib\\site-packages (from qiskit->qiskit-textbook==0.1.0) (0.7.1)\n",
      "Requirement already satisfied: prompt-toolkit!=3.0.0,!=3.0.1,<3.1.0,>=2.0.0 in c:\\users\\anirudh\\anaconda3\\lib\\site-packages (from ipython->qiskit-textbook==0.1.0) (3.0.8)\n",
      "Requirement already satisfied: setuptools>=18.5 in c:\\users\\anirudh\\anaconda3\\lib\\site-packages (from ipython->qiskit-textbook==0.1.0) (50.3.1.post20201107)\n",
      "Requirement already satisfied: colorama; sys_platform == \"win32\" in c:\\users\\anirudh\\anaconda3\\lib\\site-packages (from ipython->qiskit-textbook==0.1.0) (0.4.4)\n",
      "Requirement already satisfied: backcall in c:\\users\\anirudh\\anaconda3\\lib\\site-packages (from ipython->qiskit-textbook==0.1.0) (0.2.0)\n",
      "Requirement already satisfied: decorator in c:\\users\\anirudh\\anaconda3\\lib\\site-packages (from ipython->qiskit-textbook==0.1.0) (4.4.2)\n",
      "Requirement already satisfied: pickleshare in c:\\users\\anirudh\\anaconda3\\lib\\site-packages (from ipython->qiskit-textbook==0.1.0) (0.7.5)\n",
      "Requirement already satisfied: traitlets>=4.2 in c:\\users\\anirudh\\anaconda3\\lib\\site-packages (from ipython->qiskit-textbook==0.1.0) (5.0.5)\n",
      "Requirement already satisfied: pygments in c:\\users\\anirudh\\anaconda3\\lib\\site-packages (from ipython->qiskit-textbook==0.1.0) (2.7.2)\n",
      "Requirement already satisfied: jedi>=0.10 in c:\\users\\anirudh\\anaconda3\\lib\\site-packages (from ipython->qiskit-textbook==0.1.0) (0.17.1)\n",
      "Requirement already satisfied: nbformat>=4.2.0 in c:\\users\\anirudh\\anaconda3\\lib\\site-packages (from ipywidgets->qiskit-textbook==0.1.0) (5.0.8)\n",
      "Requirement already satisfied: widgetsnbextension~=3.5.0 in c:\\users\\anirudh\\anaconda3\\lib\\site-packages (from ipywidgets->qiskit-textbook==0.1.0) (3.5.1)\n",
      "Requirement already satisfied: ipykernel>=4.5.1 in c:\\users\\anirudh\\anaconda3\\lib\\site-packages (from ipywidgets->qiskit-textbook==0.1.0) (5.3.4)\n",
      "Requirement already satisfied: cycler>=0.10 in c:\\users\\anirudh\\anaconda3\\lib\\site-packages (from matplotlib->qiskit-textbook==0.1.0) (0.10.0)\n",
      "Requirement already satisfied: python-dateutil>=2.1 in c:\\users\\anirudh\\anaconda3\\lib\\site-packages (from matplotlib->qiskit-textbook==0.1.0) (2.8.1)\n",
      "Requirement already satisfied: pillow>=6.2.0 in c:\\users\\anirudh\\anaconda3\\lib\\site-packages (from matplotlib->qiskit-textbook==0.1.0) (8.0.1)\n",
      "Requirement already satisfied: pyparsing!=2.0.4,!=2.1.2,!=2.1.6,>=2.0.3 in c:\\users\\anirudh\\anaconda3\\lib\\site-packages (from matplotlib->qiskit-textbook==0.1.0) (2.4.7)\n",
      "Requirement already satisfied: certifi>=2020.06.20 in c:\\users\\anirudh\\anaconda3\\lib\\site-packages (from matplotlib->qiskit-textbook==0.1.0) (2020.6.20)\n",
      "Requirement already satisfied: kiwisolver>=1.0.1 in c:\\users\\anirudh\\anaconda3\\lib\\site-packages (from matplotlib->qiskit-textbook==0.1.0) (1.3.0)\n",
      "Requirement already satisfied: websockets>=8 in c:\\users\\anirudh\\anaconda3\\lib\\site-packages (from qiskit-ibmq-provider==0.11.1->qiskit->qiskit-textbook==0.1.0) (8.1)\n",
      "Requirement already satisfied: requests>=2.19 in c:\\users\\anirudh\\anaconda3\\lib\\site-packages (from qiskit-ibmq-provider==0.11.1->qiskit->qiskit-textbook==0.1.0) (2.24.0)\n",
      "Requirement already satisfied: urllib3>=1.21.1 in c:\\users\\anirudh\\anaconda3\\lib\\site-packages (from qiskit-ibmq-provider==0.11.1->qiskit->qiskit-textbook==0.1.0) (1.25.11)\n",
      "Requirement already satisfied: requests-ntlm>=1.1.0 in c:\\users\\anirudh\\anaconda3\\lib\\site-packages (from qiskit-ibmq-provider==0.11.1->qiskit->qiskit-textbook==0.1.0) (1.1.0)\n",
      "Requirement already satisfied: nest-asyncio!=1.1.0,>=1.0.0 in c:\\users\\anirudh\\anaconda3\\lib\\site-packages (from qiskit-ibmq-provider==0.11.1->qiskit->qiskit-textbook==0.1.0) (1.4.2)\n",
      "Requirement already satisfied: ply>=3.10 in c:\\users\\anirudh\\anaconda3\\lib\\site-packages (from qiskit-terra==0.16.1->qiskit->qiskit-textbook==0.1.0) (3.11)\n",
      "Requirement already satisfied: fastjsonschema>=2.10 in c:\\users\\anirudh\\anaconda3\\lib\\site-packages (from qiskit-terra==0.16.1->qiskit->qiskit-textbook==0.1.0) (2.14.5)\n",
      "Requirement already satisfied: psutil>=5 in c:\\users\\anirudh\\anaconda3\\lib\\site-packages (from qiskit-terra==0.16.1->qiskit->qiskit-textbook==0.1.0) (5.7.2)\n",
      "Requirement already satisfied: jsonschema>=2.6 in c:\\users\\anirudh\\anaconda3\\lib\\site-packages (from qiskit-terra==0.16.1->qiskit->qiskit-textbook==0.1.0) (3.2.0)\n",
      "Requirement already satisfied: python-constraint>=1.4 in c:\\users\\anirudh\\anaconda3\\lib\\site-packages (from qiskit-terra==0.16.1->qiskit->qiskit-textbook==0.1.0) (1.4.0)\n",
      "Requirement already satisfied: sympy>=1.3 in c:\\users\\anirudh\\anaconda3\\lib\\site-packages (from qiskit-terra==0.16.1->qiskit->qiskit-textbook==0.1.0) (1.6.2)\n",
      "Requirement already satisfied: retworkx>=0.5.0 in c:\\users\\anirudh\\anaconda3\\lib\\site-packages (from qiskit-terra==0.16.1->qiskit->qiskit-textbook==0.1.0) (0.6.0)\n",
      "Requirement already satisfied: scipy>=1.4 in c:\\users\\anirudh\\anaconda3\\lib\\site-packages (from qiskit-terra==0.16.1->qiskit->qiskit-textbook==0.1.0) (1.5.2)\n",
      "Requirement already satisfied: dill>=0.3 in c:\\users\\anirudh\\anaconda3\\lib\\site-packages (from qiskit-terra==0.16.1->qiskit->qiskit-textbook==0.1.0) (0.3.3)\n",
      "Requirement already satisfied: networkx>=2.2 in c:\\users\\anirudh\\anaconda3\\lib\\site-packages (from qiskit-terra==0.16.1->qiskit->qiskit-textbook==0.1.0) (2.5)\n",
      "Requirement already satisfied: scikit-learn>=0.17 in c:\\users\\anirudh\\anaconda3\\lib\\site-packages (from qiskit-ignis==0.5.1->qiskit->qiskit-textbook==0.1.0) (0.23.2)\n",
      "Requirement already satisfied: yfinance in c:\\users\\anirudh\\anaconda3\\lib\\site-packages (from qiskit-aqua==0.8.1->qiskit->qiskit-textbook==0.1.0) (0.1.55)\n",
      "Requirement already satisfied: fastdtw in c:\\users\\anirudh\\anaconda3\\lib\\site-packages (from qiskit-aqua==0.8.1->qiskit->qiskit-textbook==0.1.0) (0.3.4)\n",
      "Requirement already satisfied: docplex in c:\\users\\anirudh\\anaconda3\\lib\\site-packages (from qiskit-aqua==0.8.1->qiskit->qiskit-textbook==0.1.0) (2.18.200)\n",
      "Requirement already satisfied: pandas in c:\\users\\anirudh\\anaconda3\\lib\\site-packages (from qiskit-aqua==0.8.1->qiskit->qiskit-textbook==0.1.0) (1.1.3)\n",
      "Requirement already satisfied: quandl in c:\\users\\anirudh\\anaconda3\\lib\\site-packages (from qiskit-aqua==0.8.1->qiskit->qiskit-textbook==0.1.0) (3.5.3)\n",
      "Requirement already satisfied: dlx in c:\\users\\anirudh\\anaconda3\\lib\\site-packages (from qiskit-aqua==0.8.1->qiskit->qiskit-textbook==0.1.0) (1.0.4)\n",
      "Requirement already satisfied: h5py in c:\\users\\anirudh\\anaconda3\\lib\\site-packages (from qiskit-aqua==0.8.1->qiskit->qiskit-textbook==0.1.0) (2.10.0)\n",
      "Requirement already satisfied: pybind11>=2.4 in c:\\users\\anirudh\\anaconda3\\lib\\site-packages (from qiskit-aer==0.7.1->qiskit->qiskit-textbook==0.1.0) (2.6.1)\n",
      "Requirement already satisfied: cython>=0.27.1 in c:\\users\\anirudh\\anaconda3\\lib\\site-packages (from qiskit-aer==0.7.1->qiskit->qiskit-textbook==0.1.0) (0.29.21)\n",
      "Requirement already satisfied: wcwidth in c:\\users\\anirudh\\anaconda3\\lib\\site-packages (from prompt-toolkit!=3.0.0,!=3.0.1,<3.1.0,>=2.0.0->ipython->qiskit-textbook==0.1.0) (0.2.5)\n",
      "Requirement already satisfied: ipython-genutils in c:\\users\\anirudh\\anaconda3\\lib\\site-packages (from traitlets>=4.2->ipython->qiskit-textbook==0.1.0) (0.2.0)\n",
      "Requirement already satisfied: parso<0.8.0,>=0.7.0 in c:\\users\\anirudh\\anaconda3\\lib\\site-packages (from jedi>=0.10->ipython->qiskit-textbook==0.1.0) (0.7.0)\n",
      "Requirement already satisfied: jupyter-core in c:\\users\\anirudh\\anaconda3\\lib\\site-packages (from nbformat>=4.2.0->ipywidgets->qiskit-textbook==0.1.0) (4.6.3)\n",
      "Requirement already satisfied: notebook>=4.4.1 in c:\\users\\anirudh\\anaconda3\\lib\\site-packages (from widgetsnbextension~=3.5.0->ipywidgets->qiskit-textbook==0.1.0) (6.1.4)\n",
      "Requirement already satisfied: tornado>=4.2 in c:\\users\\anirudh\\anaconda3\\lib\\site-packages (from ipykernel>=4.5.1->ipywidgets->qiskit-textbook==0.1.0) (6.0.4)\n",
      "Requirement already satisfied: jupyter-client in c:\\users\\anirudh\\anaconda3\\lib\\site-packages (from ipykernel>=4.5.1->ipywidgets->qiskit-textbook==0.1.0) (6.1.7)\n",
      "Requirement already satisfied: six in c:\\users\\anirudh\\anaconda3\\lib\\site-packages (from cycler>=0.10->matplotlib->qiskit-textbook==0.1.0) (1.15.0)\n",
      "Requirement already satisfied: idna<3,>=2.5 in c:\\users\\anirudh\\anaconda3\\lib\\site-packages (from requests>=2.19->qiskit-ibmq-provider==0.11.1->qiskit->qiskit-textbook==0.1.0) (2.10)\n",
      "Requirement already satisfied: chardet<4,>=3.0.2 in c:\\users\\anirudh\\anaconda3\\lib\\site-packages (from requests>=2.19->qiskit-ibmq-provider==0.11.1->qiskit->qiskit-textbook==0.1.0) (3.0.4)\n",
      "Requirement already satisfied: ntlm-auth>=1.0.2 in c:\\users\\anirudh\\anaconda3\\lib\\site-packages (from requests-ntlm>=1.1.0->qiskit-ibmq-provider==0.11.1->qiskit->qiskit-textbook==0.1.0) (1.5.0)\n",
      "Requirement already satisfied: cryptography>=1.3 in c:\\users\\anirudh\\anaconda3\\lib\\site-packages (from requests-ntlm>=1.1.0->qiskit-ibmq-provider==0.11.1->qiskit->qiskit-textbook==0.1.0) (3.1.1)\n",
      "Requirement already satisfied: pyrsistent>=0.14.0 in c:\\users\\anirudh\\anaconda3\\lib\\site-packages (from jsonschema>=2.6->qiskit-terra==0.16.1->qiskit->qiskit-textbook==0.1.0) (0.17.3)\n",
      "Requirement already satisfied: attrs>=17.4.0 in c:\\users\\anirudh\\anaconda3\\lib\\site-packages (from jsonschema>=2.6->qiskit-terra==0.16.1->qiskit->qiskit-textbook==0.1.0) (20.3.0)\n",
      "Requirement already satisfied: mpmath>=0.19 in c:\\users\\anirudh\\anaconda3\\lib\\site-packages (from sympy>=1.3->qiskit-terra==0.16.1->qiskit->qiskit-textbook==0.1.0) (1.1.0)\n",
      "Requirement already satisfied: threadpoolctl>=2.0.0 in c:\\users\\anirudh\\anaconda3\\lib\\site-packages (from scikit-learn>=0.17->qiskit-ignis==0.5.1->qiskit->qiskit-textbook==0.1.0) (2.1.0)\n",
      "Requirement already satisfied: joblib>=0.11 in c:\\users\\anirudh\\anaconda3\\lib\\site-packages (from scikit-learn>=0.17->qiskit-ignis==0.5.1->qiskit->qiskit-textbook==0.1.0) (0.17.0)\n",
      "Requirement already satisfied: multitasking>=0.0.7 in c:\\users\\anirudh\\anaconda3\\lib\\site-packages (from yfinance->qiskit-aqua==0.8.1->qiskit->qiskit-textbook==0.1.0) (0.0.9)\n",
      "Requirement already satisfied: lxml>=4.5.1 in c:\\users\\anirudh\\anaconda3\\lib\\site-packages (from yfinance->qiskit-aqua==0.8.1->qiskit->qiskit-textbook==0.1.0) (4.6.1)\n",
      "Requirement already satisfied: pytz>=2017.2 in c:\\users\\anirudh\\anaconda3\\lib\\site-packages (from pandas->qiskit-aqua==0.8.1->qiskit->qiskit-textbook==0.1.0) (2020.1)\n",
      "Requirement already satisfied: inflection>=0.3.1 in c:\\users\\anirudh\\anaconda3\\lib\\site-packages (from quandl->qiskit-aqua==0.8.1->qiskit->qiskit-textbook==0.1.0) (0.5.1)\n",
      "Requirement already satisfied: more-itertools in c:\\users\\anirudh\\anaconda3\\lib\\site-packages (from quandl->qiskit-aqua==0.8.1->qiskit->qiskit-textbook==0.1.0) (8.6.0)\n",
      "Requirement already satisfied: pywin32>=1.0; sys_platform == \"win32\" in c:\\users\\anirudh\\anaconda3\\lib\\site-packages (from jupyter-core->nbformat>=4.2.0->ipywidgets->qiskit-textbook==0.1.0) (227)\n",
      "Requirement already satisfied: terminado>=0.8.3 in c:\\users\\anirudh\\anaconda3\\lib\\site-packages (from notebook>=4.4.1->widgetsnbextension~=3.5.0->ipywidgets->qiskit-textbook==0.1.0) (0.9.1)\n",
      "Requirement already satisfied: nbconvert in c:\\users\\anirudh\\anaconda3\\lib\\site-packages (from notebook>=4.4.1->widgetsnbextension~=3.5.0->ipywidgets->qiskit-textbook==0.1.0) (6.0.7)\n",
      "Requirement already satisfied: argon2-cffi in c:\\users\\anirudh\\anaconda3\\lib\\site-packages (from notebook>=4.4.1->widgetsnbextension~=3.5.0->ipywidgets->qiskit-textbook==0.1.0) (20.1.0)\n",
      "Requirement already satisfied: jinja2 in c:\\users\\anirudh\\anaconda3\\lib\\site-packages (from notebook>=4.4.1->widgetsnbextension~=3.5.0->ipywidgets->qiskit-textbook==0.1.0) (2.11.2)\n",
      "Requirement already satisfied: pyzmq>=17 in c:\\users\\anirudh\\anaconda3\\lib\\site-packages (from notebook>=4.4.1->widgetsnbextension~=3.5.0->ipywidgets->qiskit-textbook==0.1.0) (19.0.2)\n",
      "Requirement already satisfied: prometheus-client in c:\\users\\anirudh\\anaconda3\\lib\\site-packages (from notebook>=4.4.1->widgetsnbextension~=3.5.0->ipywidgets->qiskit-textbook==0.1.0) (0.8.0)\n",
      "Requirement already satisfied: Send2Trash in c:\\users\\anirudh\\anaconda3\\lib\\site-packages (from notebook>=4.4.1->widgetsnbextension~=3.5.0->ipywidgets->qiskit-textbook==0.1.0) (1.5.0)\n",
      "Requirement already satisfied: cffi!=1.11.3,>=1.8 in c:\\users\\anirudh\\anaconda3\\lib\\site-packages (from cryptography>=1.3->requests-ntlm>=1.1.0->qiskit-ibmq-provider==0.11.1->qiskit->qiskit-textbook==0.1.0) (1.14.3)\n",
      "Requirement already satisfied: pywinpty>=0.5 in c:\\users\\anirudh\\anaconda3\\lib\\site-packages (from terminado>=0.8.3->notebook>=4.4.1->widgetsnbextension~=3.5.0->ipywidgets->qiskit-textbook==0.1.0) (0.5.7)\n",
      "Requirement already satisfied: defusedxml in c:\\users\\anirudh\\anaconda3\\lib\\site-packages (from nbconvert->notebook>=4.4.1->widgetsnbextension~=3.5.0->ipywidgets->qiskit-textbook==0.1.0) (0.6.0)\n",
      "Requirement already satisfied: testpath in c:\\users\\anirudh\\anaconda3\\lib\\site-packages (from nbconvert->notebook>=4.4.1->widgetsnbextension~=3.5.0->ipywidgets->qiskit-textbook==0.1.0) (0.4.4)\n",
      "Requirement already satisfied: pandocfilters>=1.4.1 in c:\\users\\anirudh\\anaconda3\\lib\\site-packages (from nbconvert->notebook>=4.4.1->widgetsnbextension~=3.5.0->ipywidgets->qiskit-textbook==0.1.0) (1.4.3)\n",
      "Requirement already satisfied: mistune<2,>=0.8.1 in c:\\users\\anirudh\\anaconda3\\lib\\site-packages (from nbconvert->notebook>=4.4.1->widgetsnbextension~=3.5.0->ipywidgets->qiskit-textbook==0.1.0) (0.8.4)\n",
      "Requirement already satisfied: nbclient<0.6.0,>=0.5.0 in c:\\users\\anirudh\\anaconda3\\lib\\site-packages (from nbconvert->notebook>=4.4.1->widgetsnbextension~=3.5.0->ipywidgets->qiskit-textbook==0.1.0) (0.5.1)\n",
      "Requirement already satisfied: jupyterlab-pygments in c:\\users\\anirudh\\anaconda3\\lib\\site-packages (from nbconvert->notebook>=4.4.1->widgetsnbextension~=3.5.0->ipywidgets->qiskit-textbook==0.1.0) (0.1.2)\n",
      "Requirement already satisfied: bleach in c:\\users\\anirudh\\anaconda3\\lib\\site-packages (from nbconvert->notebook>=4.4.1->widgetsnbextension~=3.5.0->ipywidgets->qiskit-textbook==0.1.0) (3.2.1)\n",
      "Requirement already satisfied: entrypoints>=0.2.2 in c:\\users\\anirudh\\anaconda3\\lib\\site-packages (from nbconvert->notebook>=4.4.1->widgetsnbextension~=3.5.0->ipywidgets->qiskit-textbook==0.1.0) (0.3)\n",
      "Requirement already satisfied: MarkupSafe>=0.23 in c:\\users\\anirudh\\anaconda3\\lib\\site-packages (from jinja2->notebook>=4.4.1->widgetsnbextension~=3.5.0->ipywidgets->qiskit-textbook==0.1.0) (1.1.1)\n",
      "Requirement already satisfied: pycparser in c:\\users\\anirudh\\anaconda3\\lib\\site-packages (from cffi!=1.11.3,>=1.8->cryptography>=1.3->requests-ntlm>=1.1.0->qiskit-ibmq-provider==0.11.1->qiskit->qiskit-textbook==0.1.0) (2.20)\n",
      "Requirement already satisfied: async-generator in c:\\users\\anirudh\\anaconda3\\lib\\site-packages (from nbclient<0.6.0,>=0.5.0->nbconvert->notebook>=4.4.1->widgetsnbextension~=3.5.0->ipywidgets->qiskit-textbook==0.1.0) (1.10)\n",
      "Requirement already satisfied: webencodings in c:\\users\\anirudh\\anaconda3\\lib\\site-packages (from bleach->nbconvert->notebook>=4.4.1->widgetsnbextension~=3.5.0->ipywidgets->qiskit-textbook==0.1.0) (0.5.1)\n",
      "Requirement already satisfied: packaging in c:\\users\\anirudh\\anaconda3\\lib\\site-packages (from bleach->nbconvert->notebook>=4.4.1->widgetsnbextension~=3.5.0->ipywidgets->qiskit-textbook==0.1.0) (20.4)\n",
      "Building wheels for collected packages: qiskit-textbook\n",
      "  Building wheel for qiskit-textbook (setup.py): started\n",
      "  Building wheel for qiskit-textbook (setup.py): finished with status 'done'\n",
      "  Created wheel for qiskit-textbook: filename=qiskit_textbook-0.1.0-py3-none-any.whl size=17001 sha256=80bf8874d458a12a23dd3ba874cb395add3d10d5c63809a4780b5714309c728f\n",
      "  Stored in directory: C:\\Users\\ANIRUDH\\AppData\\Local\\Temp\\pip-ephem-wheel-cache-im_9hveo\\wheels\\80\\c4\\dd\\b7ea1ee2a7247e8997db78bc777bbe22e61ab1e5ed1c4b46e1\n",
      "Successfully built qiskit-textbook\n"
     ]
    }
   ],
   "source": [
    "pip install git+https://github.com/qiskit-community/qiskit-textbook.git#subdirectory=qiskit-textbook-src"
   ]
  },
  {
   "cell_type": "code",
   "execution_count": 3,
   "metadata": {},
   "outputs": [
    {
     "name": "stderr",
     "output_type": "stream",
     "text": [
      "configrc.store_credentials:WARNING:2020-12-06 16:47:04,573: Credentials already present. Set overwrite=True to overwrite.\n"
     ]
    }
   ],
   "source": [
    "from qiskit import IBMQ\n",
    "IBMQ.save_account('85fcd7bcb63cced65aa997fa07d08643b548aa65b022b872166f8ba05cfa35163b8817a8d6df9c723a00a37c9e0ae77a04a0c8b5b3faa22ac67ca79b32e6e7ba')\n",
    "overwrite=True"
   ]
  },
  {
   "cell_type": "code",
   "execution_count": 4,
   "metadata": {},
   "outputs": [],
   "source": [
    "import matplotlib.pyplot as plt\n",
    "import numpy as np\n",
    "from qiskit import IBMQ, Aer, QuantumCircuit, ClassicalRegister, QuantumRegister, execute\n",
    "from qiskit.providers.ibmq import least_busy\n",
    "from qiskit.quantum_info import Statevector\n",
    "from qiskit.visualization import plot_histogram"
   ]
  },
  {
   "cell_type": "code",
   "execution_count": 5,
   "metadata": {},
   "outputs": [],
   "source": [
    "n = 2 \n",
    "grover_circuit = QuantumCircuit(n)"
   ]
  },
  {
   "cell_type": "code",
   "execution_count": 6,
   "metadata": {},
   "outputs": [],
   "source": [
    "def initialize_s(qc, qubits):\n",
    "    for q in qubits:\n",
    "        qc.h(q)\n",
    "    return qc"
   ]
  },
  {
   "cell_type": "code",
   "execution_count": 7,
   "metadata": {},
   "outputs": [
    {
     "data": {
      "text/html": [
       "<pre style=\"word-wrap: normal;white-space: pre;background: #fff0;line-height: 1.1;font-family: &quot;Courier New&quot;,Courier,monospace\">     ┌───┐\n",
       "q_0: ┤ H ├\n",
       "     ├───┤\n",
       "q_1: ┤ H ├\n",
       "     └───┘</pre>"
      ],
      "text/plain": [
       "     ┌───┐\n",
       "q_0: ┤ H ├\n",
       "     ├───┤\n",
       "q_1: ┤ H ├\n",
       "     └───┘"
      ]
     },
     "execution_count": 7,
     "metadata": {},
     "output_type": "execute_result"
    }
   ],
   "source": [
    "grover_circuit = initialize_s(grover_circuit, [0,1])\n",
    "grover_circuit.draw()"
   ]
  },
  {
   "cell_type": "code",
   "execution_count": 8,
   "metadata": {},
   "outputs": [
    {
     "data": {
      "text/html": [
       "<pre style=\"word-wrap: normal;white-space: pre;background: #fff0;line-height: 1.1;font-family: &quot;Courier New&quot;,Courier,monospace\">     ┌───┐   \n",
       "q_0: ┤ H ├─■─\n",
       "     ├───┤ │ \n",
       "q_1: ┤ H ├─■─\n",
       "     └───┘   </pre>"
      ],
      "text/plain": [
       "     ┌───┐   \n",
       "q_0: ┤ H ├─■─\n",
       "     ├───┤ │ \n",
       "q_1: ┤ H ├─■─\n",
       "     └───┘   "
      ]
     },
     "execution_count": 8,
     "metadata": {},
     "output_type": "execute_result"
    }
   ],
   "source": [
    "grover_circuit.cz(0,1)\n",
    "grover_circuit.draw()"
   ]
  },
  {
   "cell_type": "code",
   "execution_count": 9,
   "metadata": {},
   "outputs": [
    {
     "data": {
      "text/html": [
       "<pre style=\"word-wrap: normal;white-space: pre;background: #fff0;line-height: 1.1;font-family: &quot;Courier New&quot;,Courier,monospace\">     ┌───┐   ┌───┐┌───┐   ┌───┐\n",
       "q_0: ┤ H ├─■─┤ H ├┤ Z ├─■─┤ H ├\n",
       "     ├───┤ │ ├───┤├───┤ │ ├───┤\n",
       "q_1: ┤ H ├─■─┤ H ├┤ Z ├─■─┤ H ├\n",
       "     └───┘   └───┘└───┘   └───┘</pre>"
      ],
      "text/plain": [
       "     ┌───┐   ┌───┐┌───┐   ┌───┐\n",
       "q_0: ┤ H ├─■─┤ H ├┤ Z ├─■─┤ H ├\n",
       "     ├───┤ │ ├───┤├───┤ │ ├───┤\n",
       "q_1: ┤ H ├─■─┤ H ├┤ Z ├─■─┤ H ├\n",
       "     └───┘   └───┘└───┘   └───┘"
      ]
     },
     "execution_count": 9,
     "metadata": {},
     "output_type": "execute_result"
    }
   ],
   "source": [
    "grover_circuit.h([0,1])\n",
    "grover_circuit.z([0,1])\n",
    "grover_circuit.cz(0,1)\n",
    "grover_circuit.h([0,1])\n",
    "grover_circuit.draw()"
   ]
  },
  {
   "cell_type": "code",
   "execution_count": 11,
   "metadata": {},
   "outputs": [
    {
     "data": {
      "text/latex": [
       "$\\displaystyle \n",
       "$$ |\\psi\\rangle =\\begin{bmatrix}\n",
       "0 \\\\\n",
       "0 \\\\\n",
       "0 \\\\\n",
       "1\\end{bmatrix} $"
      ],
      "text/plain": [
       "<IPython.core.display.Math object>"
      ]
     },
     "metadata": {},
     "output_type": "display_data"
    }
   ],
   "source": [
    "sv_sim = Aer.get_backend('statevector_simulator')\n",
    "job_sim = execute(grover_circuit, sv_sim)\n",
    "statevec = job_sim.result().get_statevector()\n",
    "from qiskit_textbook.tools import vector2latex\n",
    "vector2latex(statevec, pretext=\"|\\\\psi\\\\rangle =\")"
   ]
  },
  {
   "cell_type": "code",
   "execution_count": 13,
   "metadata": {},
   "outputs": [
    {
     "data": {
      "image/png": "[encoded data removed]",
      "text/plain": [
       "<Figure size 504x360 with 1 Axes>"
      ]
     },
     "execution_count": 13,
     "metadata": {},
     "output_type": "execute_result"
    }
   ],
   "source": [
    "grover_circuit.measure_all()\n",
    "\n",
    "qasm_simulator = Aer.get_backend('qasm_simulator')\n",
    "shots = 1024\n",
    "results = execute(grover_circuit, backend=qasm_simulator, shots=shots).result()\n",
    "answer = results.get_counts()\n",
    "plot_histogram(answer)"
   ]
  },
  {
   "cell_type": "code",
   "execution_count": 17,
   "metadata": {},
   "outputs": [],
   "source": [
    "qc = QuantumCircuit(3)\n",
    "qc.cz(0, 2)\n",
    "qc.cz(1, 2)\n",
    "oracle_ex3 = qc.to_gate()\n",
    "oracle_ex3.name = \"U$_\\omega$\""
   ]
  },
  {
   "cell_type": "code",
   "execution_count": 19,
   "metadata": {},
   "outputs": [],
   "source": [
    "def diffuser(nqubits):\n",
    "    qc = QuantumCircuit(nqubits)\n",
    "    for qubit in range(nqubits):\n",
    "        qc.x(qubit)\n",
    "    qc.h(nqubits-1)\n",
    "    qc.mct(list(range(nqubits-1)), nqubits-1)\n",
    "    qc.h(nqubits-1)\n",
    "    for qubit in range(nqubits):\n",
    "        qc.h(qubit)\n",
    "    U_s = qc.to_gate()\n",
    "    U_s.name = \"$U_s$\"\n",
    "    return U_s"
   ]
  },
  {
   "cell_type": "code",
   "execution_count": 20,
   "metadata": {},
   "outputs": [
    {
     "data": {
      "text/html": [
       "<pre style=\"word-wrap: normal;white-space: pre;background: #fff0;line-height: 1.1;font-family: &quot;Courier New&quot;,Courier,monospace\">        ┌───┐┌─────────────┐┌────────┐ ░ ┌─┐      \n",
       "   q_0: ┤ H ├┤0            ├┤0       ├─░─┤M├──────\n",
       "        ├───┤│             ││        │ ░ └╥┘┌─┐   \n",
       "   q_1: ┤ H ├┤1 U$_\\omega$ ├┤1 $U_s$ ├─░──╫─┤M├───\n",
       "        ├───┤│             ││        │ ░  ║ └╥┘┌─┐\n",
       "   q_2: ┤ H ├┤2            ├┤2       ├─░──╫──╫─┤M├\n",
       "        └───┘└─────────────┘└────────┘ ░  ║  ║ └╥┘\n",
       "meas: 3/══════════════════════════════════╩══╩══╩═\n",
       "                                          0  1  2 </pre>"
      ],
      "text/plain": [
       "        ┌───┐┌─────────────┐┌────────┐ ░ ┌─┐      \n",
       "   q_0: ┤ H ├┤0            ├┤0       ├─░─┤M├──────\n",
       "        ├───┤│             ││        │ ░ └╥┘┌─┐   \n",
       "   q_1: ┤ H ├┤1 U$_\\omega$ ├┤1 $U_s$ ├─░──╫─┤M├───\n",
       "        ├───┤│             ││        │ ░  ║ └╥┘┌─┐\n",
       "   q_2: ┤ H ├┤2            ├┤2       ├─░──╫──╫─┤M├\n",
       "        └───┘└─────────────┘└────────┘ ░  ║  ║ └╥┘\n",
       "meas: 3/══════════════════════════════════╩══╩══╩═\n",
       "                                          0  1  2 "
      ]
     },
     "execution_count": 20,
     "metadata": {},
     "output_type": "execute_result"
    }
   ],
   "source": [
    "n = 3\n",
    "grover_circuit = QuantumCircuit(n)\n",
    "grover_circuit = initialize_s(grover_circuit, [0,1,2])\n",
    "grover_circuit.append(oracle_ex3, [0,1,2])\n",
    "grover_circuit.append(diffuser(n), [0,1,2])\n",
    "grover_circuit.measure_all()\n",
    "grover_circuit.draw()"
   ]
  },
  {
   "cell_type": "code",
   "execution_count": 22,
   "metadata": {},
   "outputs": [
    {
     "data": {
      "image/png": "[encoded data removed]",
      "text/plain": [
       "<Figure size 504x360 with 1 Axes>"
      ]
     },
     "execution_count": 22,
     "metadata": {},
     "output_type": "execute_result"
    }
   ],
   "source": [
    "backend = Aer.get_backend('qasm_simulator')\n",
    "results = execute(grover_circuit, backend=backend, shots=1024).result()\n",
    "answer = results.get_counts()\n",
    "plot_histogram(answer)"
   ]
  },
  {
   "cell_type": "code",
   "execution_count": 23,
   "metadata": {},
   "outputs": [
    {
     "name": "stdout",
     "output_type": "stream",
     "text": [
      "least busy backend:  ibmq_valencia\n"
     ]
    }
   ],
   "source": [
    "backend = least_busy(provider.backends(filters=lambda x: x.configuration().n_qubits >= 3 and \n",
    "                                   not x.configuration().simulator and x.status().operational==True))\n",
    "print(\"least busy backend: \", backend)"
   ]
  },
  {
   "cell_type": "code",
   "execution_count": 24,
   "metadata": {},
   "outputs": [
    {
     "name": "stdout",
     "output_type": "stream",
     "text": [
      "Job Status: job has successfully run\n"
     ]
    }
   ],
   "source": [
    "from qiskit.tools.monitor import job_monitor\n",
    "job = execute(grover_circuit, backend=backend, shots=1024, optimization_level=3)\n",
    "job_monitor(job, interval =2)"
   ]
  },
  {
   "cell_type": "code",
   "execution_count": 25,
   "metadata": {},
   "outputs": [
    {
     "data": {
      "image/png": "[encoded data removed]",
      "text/plain": [
       "<Figure size 504x360 with 1 Axes>"
      ]
     },
     "execution_count": 25,
     "metadata": {},
     "output_type": "execute_result"
    }
   ],
   "source": [
    "results = job.result()\n",
    "answer = results.get_counts(grover_circuit)\n",
    "plot_histogram(answer)"
   ]
  },
  {
   "cell_type": "code",
   "execution_count": 27,
   "metadata": {},
   "outputs": [
    {
     "data": {
      "text/html": [
       "<pre style=\"word-wrap: normal;white-space: pre;background: #fff0;line-height: 1.1;font-family: &quot;Courier New&quot;,Courier,monospace\">     ┌────────────────────┐\n",
       "q_0: ┤0                   ├\n",
       "     │                    │\n",
       "q_1: ┤1                   ├\n",
       "     │  Oracle\n",
       "n=4, var=1 │\n",
       "q_2: ┤2                   ├\n",
       "     │                    │\n",
       "q_3: ┤3                   ├\n",
       "     └────────────────────┘</pre>"
      ],
      "text/plain": [
       "     ┌────────────────────┐\n",
       "q_0: ┤0                   ├\n",
       "     │                    │\n",
       "q_1: ┤1                   ├\n",
       "     │  Oracle\n",
       "n=4, var=1 │\n",
       "q_2: ┤2                   ├\n",
       "     │                    │\n",
       "q_3: ┤3                   ├\n",
       "     └────────────────────┘"
      ]
     },
     "execution_count": 27,
     "metadata": {},
     "output_type": "execute_result"
    }
   ],
   "source": [
    "from qiskit_textbook.problems import grover_problem_oracle\n",
    "n = 4\n",
    "oracle = grover_problem_oracle(n, variant=1)\n",
    "qc = QuantumCircuit(n)\n",
    "qc.append(oracle, [0,1,2,3])\n",
    "qc.draw()"
   ]
  },
  {
   "cell_type": "code",
   "execution_count": 28,
   "metadata": {},
   "outputs": [],
   "source": [
    "clause_list = [[0,1],\n",
    "               [0,2],\n",
    "               [1,3],\n",
    "               [2,3]]"
   ]
  },
  {
   "cell_type": "code",
   "execution_count": 31,
   "metadata": {},
   "outputs": [],
   "source": [
    "def XOR(qc, a, b, output):\n",
    "    qc.cx(a, output)\n",
    "    qc.cx(b, output)"
   ]
  },
  {
   "cell_type": "code",
   "execution_count": 32,
   "metadata": {},
   "outputs": [
    {
     "data": {
      "text/html": [
       "<pre style=\"word-wrap: normal;white-space: pre;background: #fff0;line-height: 1.1;font-family: &quot;Courier New&quot;,Courier,monospace\">                    \n",
       " input_0: ──■───────\n",
       "            │       \n",
       " input_1: ──┼────■──\n",
       "          ┌─┴─┐┌─┴─┐\n",
       "output_0: ┤ X ├┤ X ├\n",
       "          └───┘└───┘</pre>"
      ],
      "text/plain": [
       "                    \n",
       " input_0: ──■───────\n",
       "            │       \n",
       " input_1: ──┼────■──\n",
       "          ┌─┴─┐┌─┴─┐\n",
       "output_0: ┤ X ├┤ X ├\n",
       "          └───┘└───┘"
      ]
     },
     "execution_count": 32,
     "metadata": {},
     "output_type": "execute_result"
    }
   ],
   "source": [
    "in_qubits = QuantumRegister(2, name='input')\n",
    "out_qubit = QuantumRegister(1, name='output')\n",
    "qc = QuantumCircuit(in_qubits, out_qubit)\n",
    "XOR(qc, in_qubits[0], in_qubits[1], out_qubit)\n",
    "qc.draw()"
   ]
  },
  {
   "cell_type": "code",
   "execution_count": 33,
   "metadata": {},
   "outputs": [
    {
     "data": {
      "text/html": [
       "<pre style=\"word-wrap: normal;white-space: pre;background: #fff0;line-height: 1.1;font-family: &quot;Courier New&quot;,Courier,monospace\">                                             \n",
       "v_0: ──■─────────■───────────────────────────\n",
       "       │         │                           \n",
       "v_1: ──┼────■────┼─────────■─────────────────\n",
       "       │    │    │         │                 \n",
       "v_2: ──┼────┼────┼────■────┼─────────■───────\n",
       "       │    │    │    │    │         │       \n",
       "v_3: ──┼────┼────┼────┼────┼────■────┼────■──\n",
       "     ┌─┴─┐┌─┴─┐  │    │    │    │    │    │  \n",
       "c_0: ┤ X ├┤ X ├──┼────┼────┼────┼────┼────┼──\n",
       "     └───┘└───┘┌─┴─┐┌─┴─┐  │    │    │    │  \n",
       "c_1: ──────────┤ X ├┤ X ├──┼────┼────┼────┼──\n",
       "               └───┘└───┘┌─┴─┐┌─┴─┐  │    │  \n",
       "c_2: ────────────────────┤ X ├┤ X ├──┼────┼──\n",
       "                         └───┘└───┘┌─┴─┐┌─┴─┐\n",
       "c_3: ──────────────────────────────┤ X ├┤ X ├\n",
       "                                   └───┘└───┘</pre>"
      ],
      "text/plain": [
       "                                             \n",
       "v_0: ──■─────────■───────────────────────────\n",
       "       │         │                           \n",
       "v_1: ──┼────■────┼─────────■─────────────────\n",
       "       │    │    │         │                 \n",
       "v_2: ──┼────┼────┼────■────┼─────────■───────\n",
       "       │    │    │    │    │         │       \n",
       "v_3: ──┼────┼────┼────┼────┼────■────┼────■──\n",
       "     ┌─┴─┐┌─┴─┐  │    │    │    │    │    │  \n",
       "c_0: ┤ X ├┤ X ├──┼────┼────┼────┼────┼────┼──\n",
       "     └───┘└───┘┌─┴─┐┌─┴─┐  │    │    │    │  \n",
       "c_1: ──────────┤ X ├┤ X ├──┼────┼────┼────┼──\n",
       "               └───┘└───┘┌─┴─┐┌─┴─┐  │    │  \n",
       "c_2: ────────────────────┤ X ├┤ X ├──┼────┼──\n",
       "                         └───┘└───┘┌─┴─┐┌─┴─┐\n",
       "c_3: ──────────────────────────────┤ X ├┤ X ├\n",
       "                                   └───┘└───┘"
      ]
     },
     "execution_count": 33,
     "metadata": {},
     "output_type": "execute_result"
    }
   ],
   "source": [
    "var_qubits = QuantumRegister(4, name='v')\n",
    "clause_qubits = QuantumRegister(4, name='c')\n",
    "qc = QuantumCircuit(var_qubits, clause_qubits)\n",
    "i = 0\n",
    "for clause in clause_list:\n",
    "    XOR(qc, clause[0], clause[1], clause_qubits[i])\n",
    "    i += 1\n",
    "qc.draw()"
   ]
  },
  {
   "cell_type": "code",
   "execution_count": 37,
   "metadata": {},
   "outputs": [
    {
     "data": {
      "text/html": [
       "<pre style=\"word-wrap: normal;white-space: pre;background: #fff0;line-height: 1.1;font-family: &quot;Courier New&quot;,Courier,monospace\">                                                    \n",
       "  v_0: ──■─────────■────────────────────────────────\n",
       "         │         │                                \n",
       "  v_1: ──┼────■────┼─────────■──────────────────────\n",
       "         │    │    │         │                      \n",
       "  v_2: ──┼────┼────┼────■────┼─────────■────────────\n",
       "         │    │    │    │    │         │            \n",
       "  v_3: ──┼────┼────┼────┼────┼────■────┼────■───────\n",
       "       ┌─┴─┐┌─┴─┐  │    │    │    │    │    │       \n",
       "  c_0: ┤ X ├┤ X ├──┼────┼────┼────┼────┼────┼────■──\n",
       "       └───┘└───┘┌─┴─┐┌─┴─┐  │    │    │    │    │  \n",
       "  c_1: ──────────┤ X ├┤ X ├──┼────┼────┼────┼────■──\n",
       "                 └───┘└───┘┌─┴─┐┌─┴─┐  │    │    │  \n",
       "  c_2: ────────────────────┤ X ├┤ X ├──┼────┼────■──\n",
       "                           └───┘└───┘┌─┴─┐┌─┴─┐  │  \n",
       "  c_3: ──────────────────────────────┤ X ├┤ X ├──■──\n",
       "                                     └───┘└───┘┌─┴─┐\n",
       "out_0: ────────────────────────────────────────┤ X ├\n",
       "                                               └───┘</pre>"
      ],
      "text/plain": [
       "                                                    \n",
       "  v_0: ──■─────────■────────────────────────────────\n",
       "         │         │                                \n",
       "  v_1: ──┼────■────┼─────────■──────────────────────\n",
       "         │    │    │         │                      \n",
       "  v_2: ──┼────┼────┼────■────┼─────────■────────────\n",
       "         │    │    │    │    │         │            \n",
       "  v_3: ──┼────┼────┼────┼────┼────■────┼────■───────\n",
       "       ┌─┴─┐┌─┴─┐  │    │    │    │    │    │       \n",
       "  c_0: ┤ X ├┤ X ├──┼────┼────┼────┼────┼────┼────■──\n",
       "       └───┘└───┘┌─┴─┐┌─┴─┐  │    │    │    │    │  \n",
       "  c_1: ──────────┤ X ├┤ X ├──┼────┼────┼────┼────■──\n",
       "                 └───┘└───┘┌─┴─┐┌─┴─┐  │    │    │  \n",
       "  c_2: ────────────────────┤ X ├┤ X ├──┼────┼────■──\n",
       "                           └───┘└───┘┌─┴─┐┌─┴─┐  │  \n",
       "  c_3: ──────────────────────────────┤ X ├┤ X ├──■──\n",
       "                                     └───┘└───┘┌─┴─┐\n",
       "out_0: ────────────────────────────────────────┤ X ├\n",
       "                                               └───┘"
      ]
     },
     "execution_count": 37,
     "metadata": {},
     "output_type": "execute_result"
    }
   ],
   "source": [
    "var_qubits = QuantumRegister(4, name='v')\n",
    "clause_qubits = QuantumRegister(4, name='c')\n",
    "output_qubit = QuantumRegister(1, name='out')\n",
    "qc = QuantumCircuit(var_qubits, clause_qubits, output_qubit)\n",
    "i = 0\n",
    "for clause in clause_list:\n",
    "    XOR(qc, clause[0], clause[1], clause_qubits[i])\n",
    "    i += 1\n",
    "qc.mct(clause_qubits, output_qubit)\n",
    "qc.draw()"
   ]
  },
  {
   "cell_type": "code",
   "execution_count": 39,
   "metadata": {},
   "outputs": [
    {
     "data": {
      "text/html": [
       "<pre style=\"word-wrap: normal;white-space: pre;background: #fff0;line-height: 1.1;font-family: &quot;Courier New&quot;,Courier,monospace\">                                                                               »\n",
       "    v_0: ──■─────────■──────────────────────────────────■─────────■────────────»\n",
       "           │         │                                  │         │            »\n",
       "    v_1: ──┼────■────┼─────────■────────────────────────┼────■────┼─────────■──»\n",
       "           │    │    │         │                        │    │    │         │  »\n",
       "    v_2: ──┼────┼────┼────■────┼─────────■──────────────┼────┼────┼────■────┼──»\n",
       "           │    │    │    │    │         │              │    │    │    │    │  »\n",
       "    v_3: ──┼────┼────┼────┼────┼────■────┼────■─────────┼────┼────┼────┼────┼──»\n",
       "         ┌─┴─┐┌─┴─┐  │    │    │    │    │    │       ┌─┴─┐┌─┴─┐  │    │    │  »\n",
       "    c_0: ┤ X ├┤ X ├──┼────┼────┼────┼────┼────┼────■──┤ X ├┤ X ├──┼────┼────┼──»\n",
       "         └───┘└───┘┌─┴─┐┌─┴─┐  │    │    │    │    │  └───┘└───┘┌─┴─┐┌─┴─┐  │  »\n",
       "    c_1: ──────────┤ X ├┤ X ├──┼────┼────┼────┼────■────────────┤ X ├┤ X ├──┼──»\n",
       "                   └───┘└───┘┌─┴─┐┌─┴─┐  │    │    │            └───┘└───┘┌─┴─┐»\n",
       "    c_2: ────────────────────┤ X ├┤ X ├──┼────┼────■──────────────────────┤ X ├»\n",
       "                             └───┘└───┘┌─┴─┐┌─┴─┐  │                      └───┘»\n",
       "    c_3: ──────────────────────────────┤ X ├┤ X ├──■───────────────────────────»\n",
       "                                       └───┘└───┘┌─┴─┐                         »\n",
       "  out_0: ────────────────────────────────────────┤ X ├─────────────────────────»\n",
       "                                                 └───┘                         »\n",
       "cbits: 4/══════════════════════════════════════════════════════════════════════»\n",
       "                                                                               »\n",
       "«                        \n",
       "«    v_0: ───────────────\n",
       "«                        \n",
       "«    v_1: ───────────────\n",
       "«                        \n",
       "«    v_2: ───────■───────\n",
       "«                │       \n",
       "«    v_3: ──■────┼────■──\n",
       "«           │    │    │  \n",
       "«    c_0: ──┼────┼────┼──\n",
       "«           │    │    │  \n",
       "«    c_1: ──┼────┼────┼──\n",
       "«         ┌─┴─┐  │    │  \n",
       "«    c_2: ┤ X ├──┼────┼──\n",
       "«         └───┘┌─┴─┐┌─┴─┐\n",
       "«    c_3: ─────┤ X ├┤ X ├\n",
       "«              └───┘└───┘\n",
       "«  out_0: ───────────────\n",
       "«                        \n",
       "«cbits: 4/═══════════════\n",
       "«                        </pre>"
      ],
      "text/plain": [
       "                                                                               »\n",
       "    v_0: ──■─────────■──────────────────────────────────■─────────■────────────»\n",
       "           │         │                                  │         │            »\n",
       "    v_1: ──┼────■────┼─────────■────────────────────────┼────■────┼─────────■──»\n",
       "           │    │    │         │                        │    │    │         │  »\n",
       "    v_2: ──┼────┼────┼────■────┼─────────■──────────────┼────┼────┼────■────┼──»\n",
       "           │    │    │    │    │         │              │    │    │    │    │  »\n",
       "    v_3: ──┼────┼────┼────┼────┼────■────┼────■─────────┼────┼────┼────┼────┼──»\n",
       "         ┌─┴─┐┌─┴─┐  │    │    │    │    │    │       ┌─┴─┐┌─┴─┐  │    │    │  »\n",
       "    c_0: ┤ X ├┤ X ├──┼────┼────┼────┼────┼────┼────■──┤ X ├┤ X ├──┼────┼────┼──»\n",
       "         └───┘└───┘┌─┴─┐┌─┴─┐  │    │    │    │    │  └───┘└───┘┌─┴─┐┌─┴─┐  │  »\n",
       "    c_1: ──────────┤ X ├┤ X ├──┼────┼────┼────┼────■────────────┤ X ├┤ X ├──┼──»\n",
       "                   └───┘└───┘┌─┴─┐┌─┴─┐  │    │    │            └───┘└───┘┌─┴─┐»\n",
       "    c_2: ────────────────────┤ X ├┤ X ├──┼────┼────■──────────────────────┤ X ├»\n",
       "                             └───┘└───┘┌─┴─┐┌─┴─┐  │                      └───┘»\n",
       "    c_3: ──────────────────────────────┤ X ├┤ X ├──■───────────────────────────»\n",
       "                                       └───┘└───┘┌─┴─┐                         »\n",
       "  out_0: ────────────────────────────────────────┤ X ├─────────────────────────»\n",
       "                                                 └───┘                         »\n",
       "cbits: 4/══════════════════════════════════════════════════════════════════════»\n",
       "                                                                               »\n",
       "«                        \n",
       "«    v_0: ───────────────\n",
       "«                        \n",
       "«    v_1: ───────────────\n",
       "«                        \n",
       "«    v_2: ───────■───────\n",
       "«                │       \n",
       "«    v_3: ──■────┼────■──\n",
       "«           │    │    │  \n",
       "«    c_0: ──┼────┼────┼──\n",
       "«           │    │    │  \n",
       "«    c_1: ──┼────┼────┼──\n",
       "«         ┌─┴─┐  │    │  \n",
       "«    c_2: ┤ X ├──┼────┼──\n",
       "«         └───┘┌─┴─┐┌─┴─┐\n",
       "«    c_3: ─────┤ X ├┤ X ├\n",
       "«              └───┘└───┘\n",
       "«  out_0: ───────────────\n",
       "«                        \n",
       "«cbits: 4/═══════════════\n",
       "«                        "
      ]
     },
     "execution_count": 39,
     "metadata": {},
     "output_type": "execute_result"
    }
   ],
   "source": [
    "var_qubits = QuantumRegister(4, name='v')\n",
    "clause_qubits = QuantumRegister(4, name='c')\n",
    "output_qubit = QuantumRegister(1, name='out')\n",
    "cbits = ClassicalRegister(4, name='cbits')\n",
    "qc = QuantumCircuit(var_qubits, clause_qubits, output_qubit, cbits)\n",
    "\n",
    "def sudoku_oracle(qc, clause_list, var_qubits, clause_qubits, cbits):\n",
    "    # Compute clauses\n",
    "    i = 0\n",
    "    for clause in clause_list:\n",
    "        XOR(qc, clause[0], clause[1], clause_qubits[i])\n",
    "        i += 1\n",
    "\n",
    "    # Flip 'output' bit if all clauses are satisfied\n",
    "    qc.mct(clause_qubits, output_qubit)\n",
    "\n",
    "    # Uncompute clauses to reset clause-checking bits to 0\n",
    "    i = 0\n",
    "    for clause in clause_list:\n",
    "        XOR(qc, clause[0], clause[1], clause_qubits[i])\n",
    "        i += 1\n",
    "\n",
    "sudoku_oracle(qc, clause_list, var_qubits, clause_qubits, cbits)\n",
    "qc.draw()"
   ]
  },
  {
   "cell_type": "code",
   "execution_count": 40,
   "metadata": {},
   "outputs": [
    {
     "data": {
      "text/html": [
       "<pre style=\"word-wrap: normal;white-space: pre;background: #fff0;line-height: 1.1;font-family: &quot;Courier New&quot;,Courier,monospace\">                      ┌───┐               ░                                    »\n",
       "    v_0: ─────────────┤ H ├───────────────░───■─────────■──────────────────────»\n",
       "                      ├───┤               ░   │         │                      »\n",
       "    v_1: ─────────────┤ H ├───────────────░───┼────■────┼─────────■────────────»\n",
       "                      ├───┤               ░   │    │    │         │            »\n",
       "    v_2: ─────────────┤ H ├───────────────░───┼────┼────┼────■────┼─────────■──»\n",
       "                      ├───┤               ░   │    │    │    │    │         │  »\n",
       "    v_3: ─────────────┤ H ├───────────────░───┼────┼────┼────┼────┼────■────┼──»\n",
       "                      └───┘               ░ ┌─┴─┐┌─┴─┐  │    │    │    │    │  »\n",
       "    c_0: ─────────────────────────────────░─┤ X ├┤ X ├──┼────┼────┼────┼────┼──»\n",
       "                                          ░ └───┘└───┘┌─┴─┐┌─┴─┐  │    │    │  »\n",
       "    c_1: ─────────────────────────────────░───────────┤ X ├┤ X ├──┼────┼────┼──»\n",
       "                                          ░           └───┘└───┘┌─┴─┐┌─┴─┐  │  »\n",
       "    c_2: ─────────────────────────────────░─────────────────────┤ X ├┤ X ├──┼──»\n",
       "                                          ░                     └───┘└───┘┌─┴─┐»\n",
       "    c_3: ─────────────────────────────────░───────────────────────────────┤ X ├»\n",
       "         ┌──────────────────────────────┐ ░                               └───┘»\n",
       "  out_0: ┤ initialize(0.70711,-0.70711) ├─░────────────────────────────────────»\n",
       "         └──────────────────────────────┘ ░                                    »\n",
       "cbits: 4/══════════════════════════════════════════════════════════════════════»\n",
       "                                                                               »\n",
       "«                                                            ░ ┌────────┐┌─┐   »\n",
       "«    v_0: ────────────■─────────■────────────────────────────░─┤0       ├┤M├───»\n",
       "«                     │         │                            ░ │        │└╥┘┌─┐»\n",
       "«    v_1: ────────────┼────■────┼─────────■──────────────────░─┤1       ├─╫─┤M├»\n",
       "«                     │    │    │         │                  ░ │  $U_s$ │ ║ └╥┘»\n",
       "«    v_2: ────────────┼────┼────┼────■────┼─────────■────────░─┤2       ├─╫──╫─»\n",
       "«                     │    │    │    │    │         │        ░ │        │ ║  ║ »\n",
       "«    v_3: ──■─────────┼────┼────┼────┼────┼────■────┼────■───░─┤3       ├─╫──╫─»\n",
       "«           │       ┌─┴─┐┌─┴─┐  │    │    │    │    │    │   ░ └────────┘ ║  ║ »\n",
       "«    c_0: ──┼────■──┤ X ├┤ X ├──┼────┼────┼────┼────┼────┼───░────────────╫──╫─»\n",
       "«           │    │  └───┘└───┘┌─┴─┐┌─┴─┐  │    │    │    │   ░            ║  ║ »\n",
       "«    c_1: ──┼────■────────────┤ X ├┤ X ├──┼────┼────┼────┼───░────────────╫──╫─»\n",
       "«           │    │            └───┘└───┘┌─┴─┐┌─┴─┐  │    │   ░            ║  ║ »\n",
       "«    c_2: ──┼────■──────────────────────┤ X ├┤ X ├──┼────┼───░────────────╫──╫─»\n",
       "«         ┌─┴─┐  │                      └───┘└───┘┌─┴─┐┌─┴─┐ ░            ║  ║ »\n",
       "«    c_3: ┤ X ├──■────────────────────────────────┤ X ├┤ X ├─░────────────╫──╫─»\n",
       "«         └───┘┌─┴─┐                              └───┘└───┘ ░            ║  ║ »\n",
       "«  out_0: ─────┤ X ├─────────────────────────────────────────░────────────╫──╫─»\n",
       "«              └───┘                                         ░            ║  ║ »\n",
       "«cbits: 4/════════════════════════════════════════════════════════════════╩══╩═»\n",
       "«                                                                         0  1 »\n",
       "«               \n",
       "«    v_0: ──────\n",
       "«               \n",
       "«    v_1: ──────\n",
       "«         ┌─┐   \n",
       "«    v_2: ┤M├───\n",
       "«         └╥┘┌─┐\n",
       "«    v_3: ─╫─┤M├\n",
       "«          ║ └╥┘\n",
       "«    c_0: ─╫──╫─\n",
       "«          ║  ║ \n",
       "«    c_1: ─╫──╫─\n",
       "«          ║  ║ \n",
       "«    c_2: ─╫──╫─\n",
       "«          ║  ║ \n",
       "«    c_3: ─╫──╫─\n",
       "«          ║  ║ \n",
       "«  out_0: ─╫──╫─\n",
       "«          ║  ║ \n",
       "«cbits: 4/═╩══╩═\n",
       "«          2  3 </pre>"
      ],
      "text/plain": [
       "                      ┌───┐               ░                                    »\n",
       "    v_0: ─────────────┤ H ├───────────────░───■─────────■──────────────────────»\n",
       "                      ├───┤               ░   │         │                      »\n",
       "    v_1: ─────────────┤ H ├───────────────░───┼────■────┼─────────■────────────»\n",
       "                      ├───┤               ░   │    │    │         │            »\n",
       "    v_2: ─────────────┤ H ├───────────────░───┼────┼────┼────■────┼─────────■──»\n",
       "                      ├───┤               ░   │    │    │    │    │         │  »\n",
       "    v_3: ─────────────┤ H ├───────────────░───┼────┼────┼────┼────┼────■────┼──»\n",
       "                      └───┘               ░ ┌─┴─┐┌─┴─┐  │    │    │    │    │  »\n",
       "    c_0: ─────────────────────────────────░─┤ X ├┤ X ├──┼────┼────┼────┼────┼──»\n",
       "                                          ░ └───┘└───┘┌─┴─┐┌─┴─┐  │    │    │  »\n",
       "    c_1: ─────────────────────────────────░───────────┤ X ├┤ X ├──┼────┼────┼──»\n",
       "                                          ░           └───┘└───┘┌─┴─┐┌─┴─┐  │  »\n",
       "    c_2: ─────────────────────────────────░─────────────────────┤ X ├┤ X ├──┼──»\n",
       "                                          ░                     └───┘└───┘┌─┴─┐»\n",
       "    c_3: ─────────────────────────────────░───────────────────────────────┤ X ├»\n",
       "         ┌──────────────────────────────┐ ░                               └───┘»\n",
       "  out_0: ┤ initialize(0.70711,-0.70711) ├─░────────────────────────────────────»\n",
       "         └──────────────────────────────┘ ░                                    »\n",
       "cbits: 4/══════════════════════════════════════════════════════════════════════»\n",
       "                                                                               »\n",
       "«                                                            ░ ┌────────┐┌─┐   »\n",
       "«    v_0: ────────────■─────────■────────────────────────────░─┤0       ├┤M├───»\n",
       "«                     │         │                            ░ │        │└╥┘┌─┐»\n",
       "«    v_1: ────────────┼────■────┼─────────■──────────────────░─┤1       ├─╫─┤M├»\n",
       "«                     │    │    │         │                  ░ │  $U_s$ │ ║ └╥┘»\n",
       "«    v_2: ────────────┼────┼────┼────■────┼─────────■────────░─┤2       ├─╫──╫─»\n",
       "«                     │    │    │    │    │         │        ░ │        │ ║  ║ »\n",
       "«    v_3: ──■─────────┼────┼────┼────┼────┼────■────┼────■───░─┤3       ├─╫──╫─»\n",
       "«           │       ┌─┴─┐┌─┴─┐  │    │    │    │    │    │   ░ └────────┘ ║  ║ »\n",
       "«    c_0: ──┼────■──┤ X ├┤ X ├──┼────┼────┼────┼────┼────┼───░────────────╫──╫─»\n",
       "«           │    │  └───┘└───┘┌─┴─┐┌─┴─┐  │    │    │    │   ░            ║  ║ »\n",
       "«    c_1: ──┼────■────────────┤ X ├┤ X ├──┼────┼────┼────┼───░────────────╫──╫─»\n",
       "«           │    │            └───┘└───┘┌─┴─┐┌─┴─┐  │    │   ░            ║  ║ »\n",
       "«    c_2: ──┼────■──────────────────────┤ X ├┤ X ├──┼────┼───░────────────╫──╫─»\n",
       "«         ┌─┴─┐  │                      └───┘└───┘┌─┴─┐┌─┴─┐ ░            ║  ║ »\n",
       "«    c_3: ┤ X ├──■────────────────────────────────┤ X ├┤ X ├─░────────────╫──╫─»\n",
       "«         └───┘┌─┴─┐                              └───┘└───┘ ░            ║  ║ »\n",
       "«  out_0: ─────┤ X ├─────────────────────────────────────────░────────────╫──╫─»\n",
       "«              └───┘                                         ░            ║  ║ »\n",
       "«cbits: 4/════════════════════════════════════════════════════════════════╩══╩═»\n",
       "«                                                                         0  1 »\n",
       "«               \n",
       "«    v_0: ──────\n",
       "«               \n",
       "«    v_1: ──────\n",
       "«         ┌─┐   \n",
       "«    v_2: ┤M├───\n",
       "«         └╥┘┌─┐\n",
       "«    v_3: ─╫─┤M├\n",
       "«          ║ └╥┘\n",
       "«    c_0: ─╫──╫─\n",
       "«          ║  ║ \n",
       "«    c_1: ─╫──╫─\n",
       "«          ║  ║ \n",
       "«    c_2: ─╫──╫─\n",
       "«          ║  ║ \n",
       "«    c_3: ─╫──╫─\n",
       "«          ║  ║ \n",
       "«  out_0: ─╫──╫─\n",
       "«          ║  ║ \n",
       "«cbits: 4/═╩══╩═\n",
       "«          2  3 "
      ]
     },
     "execution_count": 40,
     "metadata": {},
     "output_type": "execute_result"
    }
   ],
   "source": [
    "var_qubits = QuantumRegister(4, name='v')\n",
    "clause_qubits = QuantumRegister(4, name='c')\n",
    "output_qubit = QuantumRegister(1, name='out')\n",
    "cbits = ClassicalRegister(4, name='cbits')\n",
    "qc = QuantumCircuit(var_qubits, clause_qubits, output_qubit, cbits)\n",
    "qc.initialize([1, -1]/np.sqrt(2), output_qubit)\n",
    "qc.h(var_qubits)\n",
    "qc.barrier()\n",
    "sudoku_oracle(qc, clause_list, var_qubits, clause_qubits, cbits)\n",
    "qc.barrier()\n",
    "qc.append(diffuser(4), [0,1,2,3])\n",
    "qc.measure(var_qubits, cbits)\n",
    "qc.draw()"
   ]
  },
  {
   "cell_type": "code",
   "execution_count": 41,
   "metadata": {},
   "outputs": [
    {
     "data": {
      "image/png": "[encoded data removed]",
      "text/plain": [
       "<Figure size 504x360 with 1 Axes>"
      ]
     },
     "execution_count": 41,
     "metadata": {},
     "output_type": "execute_result"
    }
   ],
   "source": [
    "qasm_simulator = Aer.get_backend('qasm_simulator')\n",
    "result = execute(qc, backend=qasm_simulator, shots=1024).result()\n",
    "plot_histogram(result.get_counts())"
   ]
  },
  {
   "cell_type": "code",
   "execution_count": null,
   "metadata": {},
   "outputs": [],
   "source": []
  }
 ],
 "metadata": {
  "kernelspec": {
   "display_name": "Python 3",
   "language": "python",
   "name": "python3"
  },
  "language_info": {
   "codemirror_mode": {
    "name": "ipython",
    "version": 3
   },
   "file_extension": ".py",
   "mimetype": "text/x-python",
   "name": "python",
   "nbconvert_exporter": "python",
   "pygments_lexer": "ipython3",
   "version": "3.8.5"
  }
 },
 "nbformat": 4,
 "nbformat_minor": 4
}
