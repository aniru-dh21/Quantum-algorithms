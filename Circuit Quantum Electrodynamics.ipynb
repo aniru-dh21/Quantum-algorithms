{
 "cells": [
  {
   "cell_type": "code",
   "execution_count": 1,
   "metadata": {},
   "outputs": [],
   "source": [
    "import qiskit"
   ]
  },
  {
   "cell_type": "code",
   "execution_count": 2,
   "metadata": {},
   "outputs": [
    {
     "name": "stdout",
     "output_type": "stream",
     "text": [
      "Collecting git+https://github.com/qiskit-community/qiskit-textbook.git#subdirectory=qiskit-textbook-src\n",
      "  Cloning https://github.com/qiskit-community/qiskit-textbook.git to c:\\users\\anirudh\\appdata\\local\\temp\\pip-req-build-1ql401cj\n",
      "Requirement already satisfied (use --upgrade to upgrade): qiskit-textbook==0.1.0 from git+https://github.com/qiskit-community/qiskit-textbook.git#subdirectory=qiskit-textbook-src in c:\\users\\anirudh\\anaconda3\\lib\\site-packages\n",
      "Requirement already satisfied: qiskit in c:\\users\\anirudh\\anaconda3\\lib\\site-packages (from qiskit-textbook==0.1.0) (0.23.1)\n",
      "Requirement already satisfied: ipython in c:\\users\\anirudh\\anaconda3\\lib\\site-packages (from qiskit-textbook==0.1.0) (7.19.0)\n",
      "Requirement already satisfied: ipywidgets in c:\\users\\anirudh\\anaconda3\\lib\\site-packages (from qiskit-textbook==0.1.0) (7.5.1)\n",
      "Requirement already satisfied: numpy in c:\\users\\anirudh\\anaconda3\\lib\\site-packages (from qiskit-textbook==0.1.0) (1.19.2)\n",
      "Requirement already satisfied: matplotlib in c:\\users\\anirudh\\anaconda3\\lib\\site-packages (from qiskit-textbook==0.1.0) (3.3.2)\n",
      "Requirement already satisfied: qiskit-ignis==0.5.1 in c:\\users\\anirudh\\anaconda3\\lib\\site-packages (from qiskit->qiskit-textbook==0.1.0) (0.5.1)\n",
      "Requirement already satisfied: qiskit-aer==0.7.1 in c:\\users\\anirudh\\anaconda3\\lib\\site-packages (from qiskit->qiskit-textbook==0.1.0) (0.7.1)\n",
      "Requirement already satisfied: qiskit-ibmq-provider==0.11.1 in c:\\users\\anirudh\\anaconda3\\lib\\site-packages (from qiskit->qiskit-textbook==0.1.0) (0.11.1)\n",
      "Requirement already satisfied: qiskit-terra==0.16.1 in c:\\users\\anirudh\\anaconda3\\lib\\site-packages (from qiskit->qiskit-textbook==0.1.0) (0.16.1)\n",
      "Requirement already satisfied: qiskit-aqua==0.8.1 in c:\\users\\anirudh\\anaconda3\\lib\\site-packages (from qiskit->qiskit-textbook==0.1.0) (0.8.1)\n",
      "Requirement already satisfied: setuptools>=18.5 in c:\\users\\anirudh\\anaconda3\\lib\\site-packages (from ipython->qiskit-textbook==0.1.0) (50.3.1.post20201107)\n",
      "Requirement already satisfied: decorator in c:\\users\\anirudh\\anaconda3\\lib\\site-packages (from ipython->qiskit-textbook==0.1.0) (4.4.2)\n",
      "Requirement already satisfied: pickleshare in c:\\users\\anirudh\\anaconda3\\lib\\site-packages (from ipython->qiskit-textbook==0.1.0) (0.7.5)\n",
      "Requirement already satisfied: traitlets>=4.2 in c:\\users\\anirudh\\anaconda3\\lib\\site-packages (from ipython->qiskit-textbook==0.1.0) (5.0.5)\n",
      "Requirement already satisfied: prompt-toolkit!=3.0.0,!=3.0.1,<3.1.0,>=2.0.0 in c:\\users\\anirudh\\anaconda3\\lib\\site-packages (from ipython->qiskit-textbook==0.1.0) (3.0.8)\n",
      "Requirement already satisfied: pygments in c:\\users\\anirudh\\anaconda3\\lib\\site-packages (from ipython->qiskit-textbook==0.1.0) (2.7.2)\n",
      "Requirement already satisfied: backcall in c:\\users\\anirudh\\anaconda3\\lib\\site-packages (from ipython->qiskit-textbook==0.1.0) (0.2.0)\n",
      "Requirement already satisfied: jedi>=0.10 in c:\\users\\anirudh\\anaconda3\\lib\\site-packages (from ipython->qiskit-textbook==0.1.0) (0.17.1)\n",
      "Requirement already satisfied: colorama; sys_platform == \"win32\" in c:\\users\\anirudh\\anaconda3\\lib\\site-packages (from ipython->qiskit-textbook==0.1.0) (0.4.4)\n",
      "Requirement already satisfied: nbformat>=4.2.0 in c:\\users\\anirudh\\anaconda3\\lib\\site-packages (from ipywidgets->qiskit-textbook==0.1.0) (5.0.8)\n",
      "Requirement already satisfied: ipykernel>=4.5.1 in c:\\users\\anirudh\\anaconda3\\lib\\site-packages (from ipywidgets->qiskit-textbook==0.1.0) (5.3.4)\n",
      "Requirement already satisfied: widgetsnbextension~=3.5.0 in c:\\users\\anirudh\\anaconda3\\lib\\site-packages (from ipywidgets->qiskit-textbook==0.1.0) (3.5.1)\n",
      "Requirement already satisfied: kiwisolver>=1.0.1 in c:\\users\\anirudh\\anaconda3\\lib\\site-packages (from matplotlib->qiskit-textbook==0.1.0) (1.3.0)\n",
      "Requirement already satisfied: python-dateutil>=2.1 in c:\\users\\anirudh\\anaconda3\\lib\\site-packages (from matplotlib->qiskit-textbook==0.1.0) (2.8.1)\n",
      "Requirement already satisfied: cycler>=0.10 in c:\\users\\anirudh\\anaconda3\\lib\\site-packages (from matplotlib->qiskit-textbook==0.1.0) (0.10.0)\n",
      "Requirement already satisfied: pillow>=6.2.0 in c:\\users\\anirudh\\anaconda3\\lib\\site-packages (from matplotlib->qiskit-textbook==0.1.0) (8.0.1)\n",
      "Requirement already satisfied: pyparsing!=2.0.4,!=2.1.2,!=2.1.6,>=2.0.3 in c:\\users\\anirudh\\anaconda3\\lib\\site-packages (from matplotlib->qiskit-textbook==0.1.0) (2.4.7)\n",
      "Requirement already satisfied: certifi>=2020.06.20 in c:\\users\\anirudh\\anaconda3\\lib\\site-packages (from matplotlib->qiskit-textbook==0.1.0) (2020.6.20)\n",
      "Requirement already satisfied: scikit-learn>=0.17 in c:\\users\\anirudh\\anaconda3\\lib\\site-packages (from qiskit-ignis==0.5.1->qiskit->qiskit-textbook==0.1.0) (0.23.2)\n",
      "Requirement already satisfied: scipy!=0.19.1,>=0.19 in c:\\users\\anirudh\\anaconda3\\lib\\site-packages (from qiskit-ignis==0.5.1->qiskit->qiskit-textbook==0.1.0) (1.5.2)\n",
      "Requirement already satisfied: cython>=0.27.1 in c:\\users\\anirudh\\anaconda3\\lib\\site-packages (from qiskit-aer==0.7.1->qiskit->qiskit-textbook==0.1.0) (0.29.21)\n",
      "Requirement already satisfied: pybind11>=2.4 in c:\\users\\anirudh\\anaconda3\\lib\\site-packages (from qiskit-aer==0.7.1->qiskit->qiskit-textbook==0.1.0) (2.6.1)\n",
      "Requirement already satisfied: websockets>=8 in c:\\users\\anirudh\\anaconda3\\lib\\site-packages (from qiskit-ibmq-provider==0.11.1->qiskit->qiskit-textbook==0.1.0) (8.1)\n",
      "Requirement already satisfied: requests>=2.19 in c:\\users\\anirudh\\anaconda3\\lib\\site-packages (from qiskit-ibmq-provider==0.11.1->qiskit->qiskit-textbook==0.1.0) (2.24.0)\n",
      "Requirement already satisfied: urllib3>=1.21.1 in c:\\users\\anirudh\\anaconda3\\lib\\site-packages (from qiskit-ibmq-provider==0.11.1->qiskit->qiskit-textbook==0.1.0) (1.25.11)\n",
      "Requirement already satisfied: nest-asyncio!=1.1.0,>=1.0.0 in c:\\users\\anirudh\\anaconda3\\lib\\site-packages (from qiskit-ibmq-provider==0.11.1->qiskit->qiskit-textbook==0.1.0) (1.4.2)\n",
      "Requirement already satisfied: requests-ntlm>=1.1.0 in c:\\users\\anirudh\\anaconda3\\lib\\site-packages (from qiskit-ibmq-provider==0.11.1->qiskit->qiskit-textbook==0.1.0) (1.1.0)\n",
      "Requirement already satisfied: python-constraint>=1.4 in c:\\users\\anirudh\\anaconda3\\lib\\site-packages (from qiskit-terra==0.16.1->qiskit->qiskit-textbook==0.1.0) (1.4.0)\n",
      "Requirement already satisfied: networkx>=2.2 in c:\\users\\anirudh\\anaconda3\\lib\\site-packages (from qiskit-terra==0.16.1->qiskit->qiskit-textbook==0.1.0) (2.5)\n",
      "Requirement already satisfied: dill>=0.3 in c:\\users\\anirudh\\anaconda3\\lib\\site-packages (from qiskit-terra==0.16.1->qiskit->qiskit-textbook==0.1.0) (0.3.3)\n",
      "Requirement already satisfied: fastjsonschema>=2.10 in c:\\users\\anirudh\\anaconda3\\lib\\site-packages (from qiskit-terra==0.16.1->qiskit->qiskit-textbook==0.1.0) (2.14.5)\n",
      "Requirement already satisfied: jsonschema>=2.6 in c:\\users\\anirudh\\anaconda3\\lib\\site-packages (from qiskit-terra==0.16.1->qiskit->qiskit-textbook==0.1.0) (3.2.0)\n",
      "Requirement already satisfied: sympy>=1.3 in c:\\users\\anirudh\\anaconda3\\lib\\site-packages (from qiskit-terra==0.16.1->qiskit->qiskit-textbook==0.1.0) (1.6.2)\n",
      "Requirement already satisfied: psutil>=5 in c:\\users\\anirudh\\anaconda3\\lib\\site-packages (from qiskit-terra==0.16.1->qiskit->qiskit-textbook==0.1.0) (5.7.2)\n",
      "Requirement already satisfied: retworkx>=0.5.0 in c:\\users\\anirudh\\anaconda3\\lib\\site-packages (from qiskit-terra==0.16.1->qiskit->qiskit-textbook==0.1.0) (0.6.0)\n",
      "Requirement already satisfied: ply>=3.10 in c:\\users\\anirudh\\anaconda3\\lib\\site-packages (from qiskit-terra==0.16.1->qiskit->qiskit-textbook==0.1.0) (3.11)\n",
      "Requirement already satisfied: h5py in c:\\users\\anirudh\\anaconda3\\lib\\site-packages (from qiskit-aqua==0.8.1->qiskit->qiskit-textbook==0.1.0) (2.10.0)\n",
      "Requirement already satisfied: quandl in c:\\users\\anirudh\\anaconda3\\lib\\site-packages (from qiskit-aqua==0.8.1->qiskit->qiskit-textbook==0.1.0) (3.5.3)\n",
      "Requirement already satisfied: yfinance in c:\\users\\anirudh\\anaconda3\\lib\\site-packages (from qiskit-aqua==0.8.1->qiskit->qiskit-textbook==0.1.0) (0.1.55)\n",
      "Requirement already satisfied: dlx in c:\\users\\anirudh\\anaconda3\\lib\\site-packages (from qiskit-aqua==0.8.1->qiskit->qiskit-textbook==0.1.0) (1.0.4)\n",
      "Requirement already satisfied: fastdtw in c:\\users\\anirudh\\anaconda3\\lib\\site-packages (from qiskit-aqua==0.8.1->qiskit->qiskit-textbook==0.1.0) (0.3.4)\n",
      "Requirement already satisfied: pandas in c:\\users\\anirudh\\anaconda3\\lib\\site-packages (from qiskit-aqua==0.8.1->qiskit->qiskit-textbook==0.1.0) (1.1.3)\n",
      "Requirement already satisfied: docplex in c:\\users\\anirudh\\anaconda3\\lib\\site-packages (from qiskit-aqua==0.8.1->qiskit->qiskit-textbook==0.1.0) (2.18.200)\n",
      "Requirement already satisfied: ipython-genutils in c:\\users\\anirudh\\anaconda3\\lib\\site-packages (from traitlets>=4.2->ipython->qiskit-textbook==0.1.0) (0.2.0)\n",
      "Requirement already satisfied: wcwidth in c:\\users\\anirudh\\anaconda3\\lib\\site-packages (from prompt-toolkit!=3.0.0,!=3.0.1,<3.1.0,>=2.0.0->ipython->qiskit-textbook==0.1.0) (0.2.5)\n",
      "Requirement already satisfied: parso<0.8.0,>=0.7.0 in c:\\users\\anirudh\\anaconda3\\lib\\site-packages (from jedi>=0.10->ipython->qiskit-textbook==0.1.0) (0.7.0)\n",
      "Requirement already satisfied: jupyter-core in c:\\users\\anirudh\\anaconda3\\lib\\site-packages (from nbformat>=4.2.0->ipywidgets->qiskit-textbook==0.1.0) (4.6.3)\n",
      "Requirement already satisfied: jupyter-client in c:\\users\\anirudh\\anaconda3\\lib\\site-packages (from ipykernel>=4.5.1->ipywidgets->qiskit-textbook==0.1.0) (6.1.7)\n",
      "Requirement already satisfied: tornado>=4.2 in c:\\users\\anirudh\\anaconda3\\lib\\site-packages (from ipykernel>=4.5.1->ipywidgets->qiskit-textbook==0.1.0) (6.0.4)\n",
      "Requirement already satisfied: notebook>=4.4.1 in c:\\users\\anirudh\\anaconda3\\lib\\site-packages (from widgetsnbextension~=3.5.0->ipywidgets->qiskit-textbook==0.1.0) (6.1.4)\n",
      "Requirement already satisfied: six>=1.5 in c:\\users\\anirudh\\anaconda3\\lib\\site-packages (from python-dateutil>=2.1->matplotlib->qiskit-textbook==0.1.0) (1.15.0)\n",
      "Requirement already satisfied: threadpoolctl>=2.0.0 in c:\\users\\anirudh\\anaconda3\\lib\\site-packages (from scikit-learn>=0.17->qiskit-ignis==0.5.1->qiskit->qiskit-textbook==0.1.0) (2.1.0)\n",
      "Requirement already satisfied: joblib>=0.11 in c:\\users\\anirudh\\anaconda3\\lib\\site-packages (from scikit-learn>=0.17->qiskit-ignis==0.5.1->qiskit->qiskit-textbook==0.1.0) (0.17.0)\n",
      "Requirement already satisfied: idna<3,>=2.5 in c:\\users\\anirudh\\anaconda3\\lib\\site-packages (from requests>=2.19->qiskit-ibmq-provider==0.11.1->qiskit->qiskit-textbook==0.1.0) (2.10)\n",
      "Requirement already satisfied: chardet<4,>=3.0.2 in c:\\users\\anirudh\\anaconda3\\lib\\site-packages (from requests>=2.19->qiskit-ibmq-provider==0.11.1->qiskit->qiskit-textbook==0.1.0) (3.0.4)\n",
      "Requirement already satisfied: ntlm-auth>=1.0.2 in c:\\users\\anirudh\\anaconda3\\lib\\site-packages (from requests-ntlm>=1.1.0->qiskit-ibmq-provider==0.11.1->qiskit->qiskit-textbook==0.1.0) (1.5.0)\n",
      "Requirement already satisfied: cryptography>=1.3 in c:\\users\\anirudh\\anaconda3\\lib\\site-packages (from requests-ntlm>=1.1.0->qiskit-ibmq-provider==0.11.1->qiskit->qiskit-textbook==0.1.0) (3.1.1)\n",
      "Requirement already satisfied: attrs>=17.4.0 in c:\\users\\anirudh\\anaconda3\\lib\\site-packages (from jsonschema>=2.6->qiskit-terra==0.16.1->qiskit->qiskit-textbook==0.1.0) (20.3.0)\n",
      "Requirement already satisfied: pyrsistent>=0.14.0 in c:\\users\\anirudh\\anaconda3\\lib\\site-packages (from jsonschema>=2.6->qiskit-terra==0.16.1->qiskit->qiskit-textbook==0.1.0) (0.17.3)\n",
      "Requirement already satisfied: mpmath>=0.19 in c:\\users\\anirudh\\anaconda3\\lib\\site-packages (from sympy>=1.3->qiskit-terra==0.16.1->qiskit->qiskit-textbook==0.1.0) (1.1.0)\n",
      "Requirement already satisfied: inflection>=0.3.1 in c:\\users\\anirudh\\anaconda3\\lib\\site-packages (from quandl->qiskit-aqua==0.8.1->qiskit->qiskit-textbook==0.1.0) (0.5.1)\n",
      "Requirement already satisfied: more-itertools in c:\\users\\anirudh\\anaconda3\\lib\\site-packages (from quandl->qiskit-aqua==0.8.1->qiskit->qiskit-textbook==0.1.0) (8.6.0)\n",
      "Requirement already satisfied: multitasking>=0.0.7 in c:\\users\\anirudh\\anaconda3\\lib\\site-packages (from yfinance->qiskit-aqua==0.8.1->qiskit->qiskit-textbook==0.1.0) (0.0.9)\n",
      "Requirement already satisfied: lxml>=4.5.1 in c:\\users\\anirudh\\anaconda3\\lib\\site-packages (from yfinance->qiskit-aqua==0.8.1->qiskit->qiskit-textbook==0.1.0) (4.6.1)\n",
      "Requirement already satisfied: pytz>=2017.2 in c:\\users\\anirudh\\anaconda3\\lib\\site-packages (from pandas->qiskit-aqua==0.8.1->qiskit->qiskit-textbook==0.1.0) (2020.1)\n",
      "Requirement already satisfied: pywin32>=1.0; sys_platform == \"win32\" in c:\\users\\anirudh\\anaconda3\\lib\\site-packages (from jupyter-core->nbformat>=4.2.0->ipywidgets->qiskit-textbook==0.1.0) (227)\n",
      "Requirement already satisfied: pyzmq>=13 in c:\\users\\anirudh\\anaconda3\\lib\\site-packages (from jupyter-client->ipykernel>=4.5.1->ipywidgets->qiskit-textbook==0.1.0) (19.0.2)\n",
      "Requirement already satisfied: terminado>=0.8.3 in c:\\users\\anirudh\\anaconda3\\lib\\site-packages (from notebook>=4.4.1->widgetsnbextension~=3.5.0->ipywidgets->qiskit-textbook==0.1.0) (0.9.1)\n",
      "Requirement already satisfied: nbconvert in c:\\users\\anirudh\\anaconda3\\lib\\site-packages (from notebook>=4.4.1->widgetsnbextension~=3.5.0->ipywidgets->qiskit-textbook==0.1.0) (6.0.7)\n",
      "Requirement already satisfied: prometheus-client in c:\\users\\anirudh\\anaconda3\\lib\\site-packages (from notebook>=4.4.1->widgetsnbextension~=3.5.0->ipywidgets->qiskit-textbook==0.1.0) (0.8.0)\n",
      "Requirement already satisfied: argon2-cffi in c:\\users\\anirudh\\anaconda3\\lib\\site-packages (from notebook>=4.4.1->widgetsnbextension~=3.5.0->ipywidgets->qiskit-textbook==0.1.0) (20.1.0)\n",
      "Requirement already satisfied: jinja2 in c:\\users\\anirudh\\anaconda3\\lib\\site-packages (from notebook>=4.4.1->widgetsnbextension~=3.5.0->ipywidgets->qiskit-textbook==0.1.0) (2.11.2)\n",
      "Requirement already satisfied: Send2Trash in c:\\users\\anirudh\\anaconda3\\lib\\site-packages (from notebook>=4.4.1->widgetsnbextension~=3.5.0->ipywidgets->qiskit-textbook==0.1.0) (1.5.0)\n",
      "Requirement already satisfied: cffi!=1.11.3,>=1.8 in c:\\users\\anirudh\\anaconda3\\lib\\site-packages (from cryptography>=1.3->requests-ntlm>=1.1.0->qiskit-ibmq-provider==0.11.1->qiskit->qiskit-textbook==0.1.0) (1.14.3)\n",
      "Requirement already satisfied: pywinpty>=0.5 in c:\\users\\anirudh\\anaconda3\\lib\\site-packages (from terminado>=0.8.3->notebook>=4.4.1->widgetsnbextension~=3.5.0->ipywidgets->qiskit-textbook==0.1.0) (0.5.7)\n",
      "Requirement already satisfied: defusedxml in c:\\users\\anirudh\\anaconda3\\lib\\site-packages (from nbconvert->notebook>=4.4.1->widgetsnbextension~=3.5.0->ipywidgets->qiskit-textbook==0.1.0) (0.6.0)\n",
      "Requirement already satisfied: pandocfilters>=1.4.1 in c:\\users\\anirudh\\anaconda3\\lib\\site-packages (from nbconvert->notebook>=4.4.1->widgetsnbextension~=3.5.0->ipywidgets->qiskit-textbook==0.1.0) (1.4.3)\n",
      "Requirement already satisfied: entrypoints>=0.2.2 in c:\\users\\anirudh\\anaconda3\\lib\\site-packages (from nbconvert->notebook>=4.4.1->widgetsnbextension~=3.5.0->ipywidgets->qiskit-textbook==0.1.0) (0.3)\n",
      "Requirement already satisfied: jupyterlab-pygments in c:\\users\\anirudh\\anaconda3\\lib\\site-packages (from nbconvert->notebook>=4.4.1->widgetsnbextension~=3.5.0->ipywidgets->qiskit-textbook==0.1.0) (0.1.2)\n",
      "Requirement already satisfied: testpath in c:\\users\\anirudh\\anaconda3\\lib\\site-packages (from nbconvert->notebook>=4.4.1->widgetsnbextension~=3.5.0->ipywidgets->qiskit-textbook==0.1.0) (0.4.4)\n",
      "Requirement already satisfied: nbclient<0.6.0,>=0.5.0 in c:\\users\\anirudh\\anaconda3\\lib\\site-packages (from nbconvert->notebook>=4.4.1->widgetsnbextension~=3.5.0->ipywidgets->qiskit-textbook==0.1.0) (0.5.1)\n",
      "Requirement already satisfied: bleach in c:\\users\\anirudh\\anaconda3\\lib\\site-packages (from nbconvert->notebook>=4.4.1->widgetsnbextension~=3.5.0->ipywidgets->qiskit-textbook==0.1.0) (3.2.1)\n",
      "Requirement already satisfied: mistune<2,>=0.8.1 in c:\\users\\anirudh\\anaconda3\\lib\\site-packages (from nbconvert->notebook>=4.4.1->widgetsnbextension~=3.5.0->ipywidgets->qiskit-textbook==0.1.0) (0.8.4)\n",
      "Requirement already satisfied: MarkupSafe>=0.23 in c:\\users\\anirudh\\anaconda3\\lib\\site-packages (from jinja2->notebook>=4.4.1->widgetsnbextension~=3.5.0->ipywidgets->qiskit-textbook==0.1.0) (1.1.1)\n",
      "Requirement already satisfied: pycparser in c:\\users\\anirudh\\anaconda3\\lib\\site-packages (from cffi!=1.11.3,>=1.8->cryptography>=1.3->requests-ntlm>=1.1.0->qiskit-ibmq-provider==0.11.1->qiskit->qiskit-textbook==0.1.0) (2.20)\n",
      "Requirement already satisfied: async-generator in c:\\users\\anirudh\\anaconda3\\lib\\site-packages (from nbclient<0.6.0,>=0.5.0->nbconvert->notebook>=4.4.1->widgetsnbextension~=3.5.0->ipywidgets->qiskit-textbook==0.1.0) (1.10)\n",
      "Requirement already satisfied: packaging in c:\\users\\anirudh\\anaconda3\\lib\\site-packages (from bleach->nbconvert->notebook>=4.4.1->widgetsnbextension~=3.5.0->ipywidgets->qiskit-textbook==0.1.0) (20.4)\n",
      "Requirement already satisfied: webencodings in c:\\users\\anirudh\\anaconda3\\lib\\site-packages (from bleach->nbconvert->notebook>=4.4.1->widgetsnbextension~=3.5.0->ipywidgets->qiskit-textbook==0.1.0) (0.5.1)\n",
      "Building wheels for collected packages: qiskit-textbook\n",
      "  Building wheel for qiskit-textbook (setup.py): started\n",
      "  Building wheel for qiskit-textbook (setup.py): finished with status 'done'\n",
      "  Created wheel for qiskit-textbook: filename=qiskit_textbook-0.1.0-py3-none-any.whl size=17069 sha256=51897e8dde3d25f7b8fb6ead716979830a9d81d338c265e021bf737f52bba510\n",
      "  Stored in directory: C:\\Users\\ANIRUDH\\AppData\\Local\\Temp\\pip-ephem-wheel-cache-2mwxr3jd\\wheels\\80\\c4\\dd\\b7ea1ee2a7247e8997db78bc777bbe22e61ab1e5ed1c4b46e1\n",
      "Successfully built qiskit-textbook\n",
      "Note: you may need to restart the kernel to use updated packages.\n"
     ]
    }
   ],
   "source": [
    "pip install git+https://github.com/qiskit-community/qiskit-textbook.git#subdirectory=qiskit-textbook-src"
   ]
  },
  {
   "cell_type": "code",
   "execution_count": 3,
   "metadata": {},
   "outputs": [],
   "source": [
    "# import SymPy and define symbols\n",
    "import sympy as sp\n",
    "sp.init_printing(use_unicode=True)\n",
    "wr = sp.Symbol('\\omega_r') # resonator frequency\n",
    "wq = sp.Symbol('\\omega_q') # qubit frequency\n",
    "g = sp.Symbol('g', real=True) # vacuum Rabi coupling\n",
    "Delta = sp.Symbol('Delta', real=True) # wr - wq; defined later"
   ]
  },
  {
   "cell_type": "code",
   "execution_count": 4,
   "metadata": {},
   "outputs": [],
   "source": [
    "# import operator relations and define them\n",
    "from sympy.physics.quantum.boson import BosonOp\n",
    "a = BosonOp('a') # resonator photon annihilation operator\n",
    "from sympy.physics.quantum import pauli, Dagger, Commutator\n",
    "from sympy.physics.quantum.operatorordering import normal_ordered_form\n",
    "\n",
    "# Pauli matrices\n",
    "sx = pauli.SigmaX()\n",
    "sy = pauli.SigmaY()\n",
    "sz = pauli.SigmaZ()\n",
    "\n",
    "# qubit raising and lowering operators, notice the spin and qubit ladder operators are inversed\n",
    "splus = pauli.SigmaMinus()\n",
    "sminus = pauli.SigmaPlus()"
   ]
  },
  {
   "cell_type": "code",
   "execution_count": 5,
   "metadata": {},
   "outputs": [
    {
     "data": {
      "image/png": "[encoded data removed]",
      "text/latex": [
       "$\\displaystyle - 0.5 \\omega_q {\\sigma_z} + \\omega_r {{a}^\\dagger} {a} + g \\left({{a}^\\dagger} {\\sigma_+} + {a} {\\sigma_-}\\right)$"
      ],
      "text/plain": [
       "                               †       ⎛ †                ⎞\n",
       "-0.5⋅\\omega_q⋅False + \\omegaᵣ⋅a ⋅a + g⋅⎝a ⋅False + a⋅False⎠"
      ]
     },
     "execution_count": 5,
     "metadata": {},
     "output_type": "execute_result"
    }
   ],
   "source": [
    "H0 = wr*Dagger(a)*a - (1/2)*wq*sz;\n",
    "H2 = g*(Dagger(a)*sminus + a*splus);\n",
    "HJC = H0 + H2; HJC"
   ]
  },
  {
   "cell_type": "code",
   "execution_count": 6,
   "metadata": {},
   "outputs": [
    {
     "data": {
      "image/png": "[encoded data removed]",
      "text/latex": [
       "$\\displaystyle - g \\left[{{a}^\\dagger} {\\sigma_+} + {a} {\\sigma_-},- 0.5 \\omega_q {\\sigma_z} + \\omega_r {{a}^\\dagger} {a}\\right]$"
      ],
      "text/plain": [
       "   ⎡ †                                                †  ⎤\n",
       "-g⋅⎣a ⋅False + a⋅False,-0.5⋅\\omega_q⋅False + \\omegaᵣ⋅a ⋅a⎦"
      ]
     },
     "execution_count": 6,
     "metadata": {},
     "output_type": "execute_result"
    }
   ],
   "source": [
    "eta = Commutator(H0, H2); eta"
   ]
  },
  {
   "cell_type": "code",
   "execution_count": 7,
   "metadata": {},
   "outputs": [
    {
     "data": {
      "image/png": "[encoded data removed]",
      "text/latex": [
       "$\\displaystyle - 1.0 \\omega_q g {{a}^\\dagger} {\\sigma_+} + 1.0 \\omega_q g {a} {\\sigma_-} + \\omega_r g {{a}^\\dagger} {\\sigma_+} - \\omega_r g {a} {\\sigma_-}$"
      ],
      "text/plain": [
       "                  †                                             †             \n",
       "- 1.0⋅\\omega_q⋅g⋅a ⋅False + 1.0⋅\\omega_q⋅g⋅a⋅False + \\omegaᵣ⋅g⋅a ⋅False - \\ome\n",
       "\n",
       "             \n",
       "gaᵣ⋅g⋅a⋅False"
      ]
     },
     "execution_count": 7,
     "metadata": {},
     "output_type": "execute_result"
    }
   ],
   "source": [
    "pauli.qsimplify_pauli(normal_ordered_form(eta.doit().expand()))"
   ]
  },
  {
   "cell_type": "code",
   "execution_count": 8,
   "metadata": {},
   "outputs": [
    {
     "data": {
      "image/png": "[encoded data removed]",
      "text/latex": [
       "$\\displaystyle - 1.0 A \\omega_q {{a}^\\dagger} {\\sigma_+} + A \\omega_r {{a}^\\dagger} {\\sigma_+} - 1.0 B \\omega_q {a} {\\sigma_-} + B \\omega_r {a} {\\sigma_-}$"
      ],
      "text/plain": [
       "                  †                    †                                      \n",
       "- 1.0⋅A⋅\\omega_q⋅a ⋅False + A⋅\\omegaᵣ⋅a ⋅False - 1.0⋅B⋅\\omega_q⋅a⋅False + B⋅\\o\n",
       "\n",
       "             \n",
       "megaᵣ⋅a⋅False"
      ]
     },
     "execution_count": 8,
     "metadata": {},
     "output_type": "execute_result"
    }
   ],
   "source": [
    "A = sp.Symbol('A')\n",
    "B = sp.Symbol('B')\n",
    "eta = A * Dagger(a) * sminus - B * a * splus;\n",
    "pauli.qsimplify_pauli(normal_ordered_form(Commutator(H0, eta).doit().expand()))"
   ]
  },
  {
   "cell_type": "code",
   "execution_count": 9,
   "metadata": {},
   "outputs": [
    {
     "data": {
      "image/png": "[encoded data removed]",
      "text/latex": [
       "$\\displaystyle g \\left({{a}^\\dagger} {\\sigma_+} + {a} {\\sigma_-}\\right)$"
      ],
      "text/plain": [
       "  ⎛ †                ⎞\n",
       "g⋅⎝a ⋅False + a⋅False⎠"
      ]
     },
     "execution_count": 9,
     "metadata": {},
     "output_type": "execute_result"
    }
   ],
   "source": [
    "H2"
   ]
  },
  {
   "cell_type": "code",
   "execution_count": 10,
   "metadata": {},
   "outputs": [
    {
     "data": {
      "image/png": "[encoded data removed]",
      "text/latex": [
       "$\\displaystyle \\frac{g \\left({{a}^\\dagger} {\\sigma_+} - {a} {\\sigma_-}\\right)}{\\Delta}$"
      ],
      "text/plain": [
       "  ⎛ †                ⎞\n",
       "g⋅⎝a ⋅False - a⋅False⎠\n",
       "──────────────────────\n",
       "          Δ           "
      ]
     },
     "execution_count": 10,
     "metadata": {},
     "output_type": "execute_result"
    }
   ],
   "source": [
    "S1 = eta.subs(A, g/Delta)\n",
    "S1 = S1.subs(B, g/Delta); S1.factor()"
   ]
  },
  {
   "cell_type": "code",
   "execution_count": 12,
   "metadata": {},
   "outputs": [
    {
     "data": {
      "image/png": "[encoded data removed]",
      "text/latex": [
       "$\\displaystyle - 0.5 \\omega_q {\\sigma_z} + \\omega_r {{a}^\\dagger} {a} + \\frac{0.5 g^{2} \\left(1 - 2 {{a}^\\dagger} {a} {\\sigma_z} - {\\sigma_z}\\right)}{\\Delta}$"
      ],
      "text/plain": [
       "                                          2 ⎛       †                ⎞\n",
       "                               †     0.5⋅g ⋅⎝1 - 2⋅a ⋅a⋅False - False⎠\n",
       "-0.5⋅\\omega_q⋅False + \\omegaᵣ⋅a ⋅a + ─────────────────────────────────\n",
       "                                                     Δ                "
      ]
     },
     "execution_count": 12,
     "metadata": {},
     "output_type": "execute_result"
    }
   ],
   "source": [
    "Heff = H0 + 0.5*pauli.qsimplify_pauli(normal_ordered_form(Commutator(H2, S1).doit().expand())).simplify(); Heff"
   ]
  },
  {
   "cell_type": "code",
   "execution_count": null,
   "metadata": {},
   "outputs": [],
   "source": []
  }
 ],
 "metadata": {
  "kernelspec": {
   "display_name": "Python 3",
   "language": "python",
   "name": "python3"
  },
  "language_info": {
   "codemirror_mode": {
    "name": "ipython",
    "version": 3
   },
   "file_extension": ".py",
   "mimetype": "text/x-python",
   "name": "python",
   "nbconvert_exporter": "python",
   "pygments_lexer": "ipython3",
   "version": "3.8.5"
  }
 },
 "nbformat": 4,
 "nbformat_minor": 4
}
