{
 "cells": [
  {
   "cell_type": "code",
   "execution_count": 1,
   "metadata": {},
   "outputs": [],
   "source": [
    "import qiskit"
   ]
  },
  {
   "cell_type": "code",
   "execution_count": 2,
   "metadata": {},
   "outputs": [
    {
     "name": "stdout",
     "output_type": "stream",
     "text": [
      "Collecting git+https://github.com/qiskit-community/qiskit-textbook.git#subdirectory=qiskit-textbook-src\n",
      "  Cloning https://github.com/qiskit-community/qiskit-textbook.git to c:\\users\\anirudh\\appdata\\local\\temp\\pip-req-build-919n69jo\n",
      "Requirement already satisfied (use --upgrade to upgrade): qiskit-textbook==0.1.0 from git+https://github.com/qiskit-community/qiskit-textbook.git#subdirectory=qiskit-textbook-src in c:\\users\\anirudh\\anaconda3\\lib\\site-packages\n",
      "Requirement already satisfied: qiskit in c:\\users\\anirudh\\anaconda3\\lib\\site-packages (from qiskit-textbook==0.1.0) (0.23.1)\n",
      "Requirement already satisfied: ipython in c:\\users\\anirudh\\anaconda3\\lib\\site-packages (from qiskit-textbook==0.1.0) (7.19.0)\n",
      "Requirement already satisfied: ipywidgets in c:\\users\\anirudh\\anaconda3\\lib\\site-packages (from qiskit-textbook==0.1.0) (7.5.1)\n",
      "Requirement already satisfied: numpy in c:\\users\\anirudh\\anaconda3\\lib\\site-packages (from qiskit-textbook==0.1.0) (1.19.2)\n",
      "Requirement already satisfied: matplotlib in c:\\users\\anirudh\\anaconda3\\lib\\site-packages (from qiskit-textbook==0.1.0) (3.3.2)\n",
      "Requirement already satisfied: qiskit-aer==0.7.1 in c:\\users\\anirudh\\anaconda3\\lib\\site-packages (from qiskit->qiskit-textbook==0.1.0) (0.7.1)\n",
      "Requirement already satisfied: qiskit-ignis==0.5.1 in c:\\users\\anirudh\\anaconda3\\lib\\site-packages (from qiskit->qiskit-textbook==0.1.0) (0.5.1)\n",
      "Requirement already satisfied: qiskit-ibmq-provider==0.11.1 in c:\\users\\anirudh\\anaconda3\\lib\\site-packages (from qiskit->qiskit-textbook==0.1.0) (0.11.1)\n",
      "Requirement already satisfied: qiskit-terra==0.16.1 in c:\\users\\anirudh\\anaconda3\\lib\\site-packages (from qiskit->qiskit-textbook==0.1.0) (0.16.1)\n",
      "Requirement already satisfied: qiskit-aqua==0.8.1 in c:\\users\\anirudh\\anaconda3\\lib\\site-packages (from qiskit->qiskit-textbook==0.1.0) (0.8.1)\n",
      "Requirement already satisfied: traitlets>=4.2 in c:\\users\\anirudh\\anaconda3\\lib\\site-packages (from ipython->qiskit-textbook==0.1.0) (5.0.5)\n",
      "Requirement already satisfied: backcall in c:\\users\\anirudh\\anaconda3\\lib\\site-packages (from ipython->qiskit-textbook==0.1.0) (0.2.0)\n",
      "Requirement already satisfied: pickleshare in c:\\users\\anirudh\\anaconda3\\lib\\site-packages (from ipython->qiskit-textbook==0.1.0) (0.7.5)\n",
      "Requirement already satisfied: decorator in c:\\users\\anirudh\\anaconda3\\lib\\site-packages (from ipython->qiskit-textbook==0.1.0) (4.4.2)\n",
      "Requirement already satisfied: prompt-toolkit!=3.0.0,!=3.0.1,<3.1.0,>=2.0.0 in c:\\users\\anirudh\\anaconda3\\lib\\site-packages (from ipython->qiskit-textbook==0.1.0) (3.0.8)\n",
      "Note: you may need to restart the kernel to use updated packages.\n",
      "Requirement already satisfied: jedi>=0.10 in c:\\users\\anirudh\\anaconda3\\lib\\site-packages (from ipython->qiskit-textbook==0.1.0) (0.17.1)\n",
      "Requirement already satisfied: setuptools>=18.5 in c:\\users\\anirudh\\anaconda3\\lib\\site-packages (from ipython->qiskit-textbook==0.1.0) (50.3.1.post20201107)\n",
      "Requirement already satisfied: pygments in c:\\users\\anirudh\\anaconda3\\lib\\site-packages (from ipython->qiskit-textbook==0.1.0) (2.7.2)\n",
      "Requirement already satisfied: colorama; sys_platform == \"win32\" in c:\\users\\anirudh\\anaconda3\\lib\\site-packages (from ipython->qiskit-textbook==0.1.0) (0.4.4)\n",
      "Requirement already satisfied: widgetsnbextension~=3.5.0 in c:\\users\\anirudh\\anaconda3\\lib\\site-packages (from ipywidgets->qiskit-textbook==0.1.0) (3.5.1)\n",
      "Requirement already satisfied: nbformat>=4.2.0 in c:\\users\\anirudh\\anaconda3\\lib\\site-packages (from ipywidgets->qiskit-textbook==0.1.0) (5.0.8)\n",
      "Requirement already satisfied: ipykernel>=4.5.1 in c:\\users\\anirudh\\anaconda3\\lib\\site-packages (from ipywidgets->qiskit-textbook==0.1.0) (5.3.4)\n",
      "Requirement already satisfied: pillow>=6.2.0 in c:\\users\\anirudh\\anaconda3\\lib\\site-packages (from matplotlib->qiskit-textbook==0.1.0) (8.0.1)\n",
      "Requirement already satisfied: kiwisolver>=1.0.1 in c:\\users\\anirudh\\anaconda3\\lib\\site-packages (from matplotlib->qiskit-textbook==0.1.0) (1.3.0)\n",
      "Requirement already satisfied: cycler>=0.10 in c:\\users\\anirudh\\anaconda3\\lib\\site-packages (from matplotlib->qiskit-textbook==0.1.0) (0.10.0)\n",
      "Requirement already satisfied: python-dateutil>=2.1 in c:\\users\\anirudh\\anaconda3\\lib\\site-packages (from matplotlib->qiskit-textbook==0.1.0) (2.8.1)\n",
      "Requirement already satisfied: pyparsing!=2.0.4,!=2.1.2,!=2.1.6,>=2.0.3 in c:\\users\\anirudh\\anaconda3\\lib\\site-packages (from matplotlib->qiskit-textbook==0.1.0) (2.4.7)\n",
      "Requirement already satisfied: certifi>=2020.06.20 in c:\\users\\anirudh\\anaconda3\\lib\\site-packages (from matplotlib->qiskit-textbook==0.1.0) (2020.6.20)\n",
      "Requirement already satisfied: scipy>=1.0 in c:\\users\\anirudh\\anaconda3\\lib\\site-packages (from qiskit-aer==0.7.1->qiskit->qiskit-textbook==0.1.0) (1.5.2)\n",
      "Requirement already satisfied: cython>=0.27.1 in c:\\users\\anirudh\\anaconda3\\lib\\site-packages (from qiskit-aer==0.7.1->qiskit->qiskit-textbook==0.1.0) (0.29.21)\n",
      "Requirement already satisfied: pybind11>=2.4 in c:\\users\\anirudh\\anaconda3\\lib\\site-packages (from qiskit-aer==0.7.1->qiskit->qiskit-textbook==0.1.0) (2.6.1)\n",
      "Requirement already satisfied: scikit-learn>=0.17 in c:\\users\\anirudh\\anaconda3\\lib\\site-packages (from qiskit-ignis==0.5.1->qiskit->qiskit-textbook==0.1.0) (0.23.2)\n",
      "Requirement already satisfied: requests-ntlm>=1.1.0 in c:\\users\\anirudh\\anaconda3\\lib\\site-packages (from qiskit-ibmq-provider==0.11.1->qiskit->qiskit-textbook==0.1.0) (1.1.0)\n",
      "Requirement already satisfied: urllib3>=1.21.1 in c:\\users\\anirudh\\anaconda3\\lib\\site-packages (from qiskit-ibmq-provider==0.11.1->qiskit->qiskit-textbook==0.1.0) (1.25.11)\n",
      "Requirement already satisfied: nest-asyncio!=1.1.0,>=1.0.0 in c:\\users\\anirudh\\anaconda3\\lib\\site-packages (from qiskit-ibmq-provider==0.11.1->qiskit->qiskit-textbook==0.1.0) (1.4.2)\n",
      "Requirement already satisfied: requests>=2.19 in c:\\users\\anirudh\\anaconda3\\lib\\site-packages (from qiskit-ibmq-provider==0.11.1->qiskit->qiskit-textbook==0.1.0) (2.24.0)\n",
      "Requirement already satisfied: websockets>=8 in c:\\users\\anirudh\\anaconda3\\lib\\site-packages (from qiskit-ibmq-provider==0.11.1->qiskit->qiskit-textbook==0.1.0) (8.1)\n",
      "Requirement already satisfied: psutil>=5 in c:\\users\\anirudh\\anaconda3\\lib\\site-packages (from qiskit-terra==0.16.1->qiskit->qiskit-textbook==0.1.0) (5.7.2)\n",
      "Requirement already satisfied: python-constraint>=1.4 in c:\\users\\anirudh\\anaconda3\\lib\\site-packages (from qiskit-terra==0.16.1->qiskit->qiskit-textbook==0.1.0) (1.4.0)\n",
      "Requirement already satisfied: fastjsonschema>=2.10 in c:\\users\\anirudh\\anaconda3\\lib\\site-packages (from qiskit-terra==0.16.1->qiskit->qiskit-textbook==0.1.0) (2.14.5)\n",
      "Requirement already satisfied: retworkx>=0.5.0 in c:\\users\\anirudh\\anaconda3\\lib\\site-packages (from qiskit-terra==0.16.1->qiskit->qiskit-textbook==0.1.0) (0.6.0)\n",
      "Requirement already satisfied: jsonschema>=2.6 in c:\\users\\anirudh\\anaconda3\\lib\\site-packages (from qiskit-terra==0.16.1->qiskit->qiskit-textbook==0.1.0) (3.2.0)\n",
      "Requirement already satisfied: dill>=0.3 in c:\\users\\anirudh\\anaconda3\\lib\\site-packages (from qiskit-terra==0.16.1->qiskit->qiskit-textbook==0.1.0) (0.3.3)\n",
      "Requirement already satisfied: sympy>=1.3 in c:\\users\\anirudh\\anaconda3\\lib\\site-packages (from qiskit-terra==0.16.1->qiskit->qiskit-textbook==0.1.0) (1.6.2)\n",
      "Requirement already satisfied: networkx>=2.2 in c:\\users\\anirudh\\anaconda3\\lib\\site-packages (from qiskit-terra==0.16.1->qiskit->qiskit-textbook==0.1.0) (2.5)\n",
      "Requirement already satisfied: ply>=3.10 in c:\\users\\anirudh\\anaconda3\\lib\\site-packages (from qiskit-terra==0.16.1->qiskit->qiskit-textbook==0.1.0) (3.11)\n",
      "Requirement already satisfied: fastdtw in c:\\users\\anirudh\\anaconda3\\lib\\site-packages (from qiskit-aqua==0.8.1->qiskit->qiskit-textbook==0.1.0) (0.3.4)\n",
      "Requirement already satisfied: h5py in c:\\users\\anirudh\\anaconda3\\lib\\site-packages (from qiskit-aqua==0.8.1->qiskit->qiskit-textbook==0.1.0) (2.10.0)\n",
      "Requirement already satisfied: dlx in c:\\users\\anirudh\\anaconda3\\lib\\site-packages (from qiskit-aqua==0.8.1->qiskit->qiskit-textbook==0.1.0) (1.0.4)\n",
      "Requirement already satisfied: docplex in c:\\users\\anirudh\\anaconda3\\lib\\site-packages (from qiskit-aqua==0.8.1->qiskit->qiskit-textbook==0.1.0) (2.18.200)\n",
      "Requirement already satisfied: quandl in c:\\users\\anirudh\\anaconda3\\lib\\site-packages (from qiskit-aqua==0.8.1->qiskit->qiskit-textbook==0.1.0) (3.5.3)\n",
      "Requirement already satisfied: yfinance in c:\\users\\anirudh\\anaconda3\\lib\\site-packages (from qiskit-aqua==0.8.1->qiskit->qiskit-textbook==0.1.0) (0.1.55)\n",
      "Requirement already satisfied: pandas in c:\\users\\anirudh\\anaconda3\\lib\\site-packages (from qiskit-aqua==0.8.1->qiskit->qiskit-textbook==0.1.0) (1.1.3)\n",
      "Requirement already satisfied: ipython-genutils in c:\\users\\anirudh\\anaconda3\\lib\\site-packages (from traitlets>=4.2->ipython->qiskit-textbook==0.1.0) (0.2.0)\n",
      "Requirement already satisfied: wcwidth in c:\\users\\anirudh\\anaconda3\\lib\\site-packages (from prompt-toolkit!=3.0.0,!=3.0.1,<3.1.0,>=2.0.0->ipython->qiskit-textbook==0.1.0) (0.2.5)\n",
      "Requirement already satisfied: parso<0.8.0,>=0.7.0 in c:\\users\\anirudh\\anaconda3\\lib\\site-packages (from jedi>=0.10->ipython->qiskit-textbook==0.1.0) (0.7.0)\n",
      "Requirement already satisfied: notebook>=4.4.1 in c:\\users\\anirudh\\anaconda3\\lib\\site-packages (from widgetsnbextension~=3.5.0->ipywidgets->qiskit-textbook==0.1.0) (6.1.4)\n",
      "Requirement already satisfied: jupyter-core in c:\\users\\anirudh\\anaconda3\\lib\\site-packages (from nbformat>=4.2.0->ipywidgets->qiskit-textbook==0.1.0) (4.6.3)\n",
      "Requirement already satisfied: tornado>=4.2 in c:\\users\\anirudh\\anaconda3\\lib\\site-packages (from ipykernel>=4.5.1->ipywidgets->qiskit-textbook==0.1.0) (6.0.4)\n",
      "Requirement already satisfied: jupyter-client in c:\\users\\anirudh\\anaconda3\\lib\\site-packages (from ipykernel>=4.5.1->ipywidgets->qiskit-textbook==0.1.0) (6.1.7)\n",
      "Requirement already satisfied: six in c:\\users\\anirudh\\anaconda3\\lib\\site-packages (from cycler>=0.10->matplotlib->qiskit-textbook==0.1.0) (1.15.0)\n",
      "Requirement already satisfied: joblib>=0.11 in c:\\users\\anirudh\\anaconda3\\lib\\site-packages (from scikit-learn>=0.17->qiskit-ignis==0.5.1->qiskit->qiskit-textbook==0.1.0) (0.17.0)\n",
      "Requirement already satisfied: threadpoolctl>=2.0.0 in c:\\users\\anirudh\\anaconda3\\lib\\site-packages (from scikit-learn>=0.17->qiskit-ignis==0.5.1->qiskit->qiskit-textbook==0.1.0) (2.1.0)\n",
      "Requirement already satisfied: ntlm-auth>=1.0.2 in c:\\users\\anirudh\\anaconda3\\lib\\site-packages (from requests-ntlm>=1.1.0->qiskit-ibmq-provider==0.11.1->qiskit->qiskit-textbook==0.1.0) (1.5.0)\n",
      "Requirement already satisfied: cryptography>=1.3 in c:\\users\\anirudh\\anaconda3\\lib\\site-packages (from requests-ntlm>=1.1.0->qiskit-ibmq-provider==0.11.1->qiskit->qiskit-textbook==0.1.0) (3.1.1)\n",
      "Requirement already satisfied: chardet<4,>=3.0.2 in c:\\users\\anirudh\\anaconda3\\lib\\site-packages (from requests>=2.19->qiskit-ibmq-provider==0.11.1->qiskit->qiskit-textbook==0.1.0) (3.0.4)\n",
      "Requirement already satisfied: idna<3,>=2.5 in c:\\users\\anirudh\\anaconda3\\lib\\site-packages (from requests>=2.19->qiskit-ibmq-provider==0.11.1->qiskit->qiskit-textbook==0.1.0) (2.10)\n",
      "Requirement already satisfied: pyrsistent>=0.14.0 in c:\\users\\anirudh\\anaconda3\\lib\\site-packages (from jsonschema>=2.6->qiskit-terra==0.16.1->qiskit->qiskit-textbook==0.1.0) (0.17.3)\n",
      "Requirement already satisfied: attrs>=17.4.0 in c:\\users\\anirudh\\anaconda3\\lib\\site-packages (from jsonschema>=2.6->qiskit-terra==0.16.1->qiskit->qiskit-textbook==0.1.0) (20.3.0)\n",
      "Requirement already satisfied: mpmath>=0.19 in c:\\users\\anirudh\\anaconda3\\lib\\site-packages (from sympy>=1.3->qiskit-terra==0.16.1->qiskit->qiskit-textbook==0.1.0) (1.1.0)\n",
      "Requirement already satisfied: inflection>=0.3.1 in c:\\users\\anirudh\\anaconda3\\lib\\site-packages (from quandl->qiskit-aqua==0.8.1->qiskit->qiskit-textbook==0.1.0) (0.5.1)\n",
      "Requirement already satisfied: more-itertools in c:\\users\\anirudh\\anaconda3\\lib\\site-packages (from quandl->qiskit-aqua==0.8.1->qiskit->qiskit-textbook==0.1.0) (8.6.0)\n",
      "Requirement already satisfied: multitasking>=0.0.7 in c:\\users\\anirudh\\anaconda3\\lib\\site-packages (from yfinance->qiskit-aqua==0.8.1->qiskit->qiskit-textbook==0.1.0) (0.0.9)\n",
      "Requirement already satisfied: lxml>=4.5.1 in c:\\users\\anirudh\\anaconda3\\lib\\site-packages (from yfinance->qiskit-aqua==0.8.1->qiskit->qiskit-textbook==0.1.0) (4.6.1)\n",
      "Requirement already satisfied: pytz>=2017.2 in c:\\users\\anirudh\\anaconda3\\lib\\site-packages (from pandas->qiskit-aqua==0.8.1->qiskit->qiskit-textbook==0.1.0) (2020.1)\n",
      "Requirement already satisfied: prometheus-client in c:\\users\\anirudh\\anaconda3\\lib\\site-packages (from notebook>=4.4.1->widgetsnbextension~=3.5.0->ipywidgets->qiskit-textbook==0.1.0) (0.8.0)\n",
      "Requirement already satisfied: jinja2 in c:\\users\\anirudh\\anaconda3\\lib\\site-packages (from notebook>=4.4.1->widgetsnbextension~=3.5.0->ipywidgets->qiskit-textbook==0.1.0) (2.11.2)\n",
      "Requirement already satisfied: nbconvert in c:\\users\\anirudh\\anaconda3\\lib\\site-packages (from notebook>=4.4.1->widgetsnbextension~=3.5.0->ipywidgets->qiskit-textbook==0.1.0) (6.0.7)\n",
      "Requirement already satisfied: argon2-cffi in c:\\users\\anirudh\\anaconda3\\lib\\site-packages (from notebook>=4.4.1->widgetsnbextension~=3.5.0->ipywidgets->qiskit-textbook==0.1.0) (20.1.0)\n",
      "Requirement already satisfied: pyzmq>=17 in c:\\users\\anirudh\\anaconda3\\lib\\site-packages (from notebook>=4.4.1->widgetsnbextension~=3.5.0->ipywidgets->qiskit-textbook==0.1.0) (19.0.2)\n",
      "Requirement already satisfied: Send2Trash in c:\\users\\anirudh\\anaconda3\\lib\\site-packages (from notebook>=4.4.1->widgetsnbextension~=3.5.0->ipywidgets->qiskit-textbook==0.1.0) (1.5.0)\n",
      "Requirement already satisfied: terminado>=0.8.3 in c:\\users\\anirudh\\anaconda3\\lib\\site-packages (from notebook>=4.4.1->widgetsnbextension~=3.5.0->ipywidgets->qiskit-textbook==0.1.0) (0.9.1)\n",
      "Requirement already satisfied: pywin32>=1.0; sys_platform == \"win32\" in c:\\users\\anirudh\\anaconda3\\lib\\site-packages (from jupyter-core->nbformat>=4.2.0->ipywidgets->qiskit-textbook==0.1.0) (227)\n",
      "Requirement already satisfied: cffi!=1.11.3,>=1.8 in c:\\users\\anirudh\\anaconda3\\lib\\site-packages (from cryptography>=1.3->requests-ntlm>=1.1.0->qiskit-ibmq-provider==0.11.1->qiskit->qiskit-textbook==0.1.0) (1.14.3)\n",
      "Requirement already satisfied: MarkupSafe>=0.23 in c:\\users\\anirudh\\anaconda3\\lib\\site-packages (from jinja2->notebook>=4.4.1->widgetsnbextension~=3.5.0->ipywidgets->qiskit-textbook==0.1.0) (1.1.1)\n",
      "Requirement already satisfied: entrypoints>=0.2.2 in c:\\users\\anirudh\\anaconda3\\lib\\site-packages (from nbconvert->notebook>=4.4.1->widgetsnbextension~=3.5.0->ipywidgets->qiskit-textbook==0.1.0) (0.3)\n",
      "Requirement already satisfied: testpath in c:\\users\\anirudh\\anaconda3\\lib\\site-packages (from nbconvert->notebook>=4.4.1->widgetsnbextension~=3.5.0->ipywidgets->qiskit-textbook==0.1.0) (0.4.4)\n",
      "Requirement already satisfied: pandocfilters>=1.4.1 in c:\\users\\anirudh\\anaconda3\\lib\\site-packages (from nbconvert->notebook>=4.4.1->widgetsnbextension~=3.5.0->ipywidgets->qiskit-textbook==0.1.0) (1.4.3)\n",
      "Requirement already satisfied: bleach in c:\\users\\anirudh\\anaconda3\\lib\\site-packages (from nbconvert->notebook>=4.4.1->widgetsnbextension~=3.5.0->ipywidgets->qiskit-textbook==0.1.0) (3.2.1)\n",
      "Requirement already satisfied: defusedxml in c:\\users\\anirudh\\anaconda3\\lib\\site-packages (from nbconvert->notebook>=4.4.1->widgetsnbextension~=3.5.0->ipywidgets->qiskit-textbook==0.1.0) (0.6.0)\n",
      "Requirement already satisfied: jupyterlab-pygments in c:\\users\\anirudh\\anaconda3\\lib\\site-packages (from nbconvert->notebook>=4.4.1->widgetsnbextension~=3.5.0->ipywidgets->qiskit-textbook==0.1.0) (0.1.2)\n",
      "Requirement already satisfied: nbclient<0.6.0,>=0.5.0 in c:\\users\\anirudh\\anaconda3\\lib\\site-packages (from nbconvert->notebook>=4.4.1->widgetsnbextension~=3.5.0->ipywidgets->qiskit-textbook==0.1.0) (0.5.1)\n",
      "Requirement already satisfied: mistune<2,>=0.8.1 in c:\\users\\anirudh\\anaconda3\\lib\\site-packages (from nbconvert->notebook>=4.4.1->widgetsnbextension~=3.5.0->ipywidgets->qiskit-textbook==0.1.0) (0.8.4)\n",
      "Requirement already satisfied: pywinpty>=0.5 in c:\\users\\anirudh\\anaconda3\\lib\\site-packages (from terminado>=0.8.3->notebook>=4.4.1->widgetsnbextension~=3.5.0->ipywidgets->qiskit-textbook==0.1.0) (0.5.7)\n",
      "Requirement already satisfied: pycparser in c:\\users\\anirudh\\anaconda3\\lib\\site-packages (from cffi!=1.11.3,>=1.8->cryptography>=1.3->requests-ntlm>=1.1.0->qiskit-ibmq-provider==0.11.1->qiskit->qiskit-textbook==0.1.0) (2.20)\n",
      "Requirement already satisfied: packaging in c:\\users\\anirudh\\anaconda3\\lib\\site-packages (from bleach->nbconvert->notebook>=4.4.1->widgetsnbextension~=3.5.0->ipywidgets->qiskit-textbook==0.1.0) (20.4)\n",
      "Requirement already satisfied: webencodings in c:\\users\\anirudh\\anaconda3\\lib\\site-packages (from bleach->nbconvert->notebook>=4.4.1->widgetsnbextension~=3.5.0->ipywidgets->qiskit-textbook==0.1.0) (0.5.1)\n",
      "Requirement already satisfied: async-generator in c:\\users\\anirudh\\anaconda3\\lib\\site-packages (from nbclient<0.6.0,>=0.5.0->nbconvert->notebook>=4.4.1->widgetsnbextension~=3.5.0->ipywidgets->qiskit-textbook==0.1.0) (1.10)\n",
      "Building wheels for collected packages: qiskit-textbook\n",
      "  Building wheel for qiskit-textbook (setup.py): started\n",
      "  Building wheel for qiskit-textbook (setup.py): finished with status 'done'\n",
      "  Created wheel for qiskit-textbook: filename=qiskit_textbook-0.1.0-py3-none-any.whl size=17001 sha256=6628910632f22de92a9cb92070b1a9bf2d7b7ea8a3eb71b67108d99236c04388\n",
      "  Stored in directory: C:\\Users\\ANIRUDH\\AppData\\Local\\Temp\\pip-ephem-wheel-cache-_lfnrsbv\\wheels\\80\\c4\\dd\\b7ea1ee2a7247e8997db78bc777bbe22e61ab1e5ed1c4b46e1\n",
      "Successfully built qiskit-textbook\n"
     ]
    }
   ],
   "source": [
    "pip install git+https://github.com/qiskit-community/qiskit-textbook.git#subdirectory=qiskit-textbook-src"
   ]
  },
  {
   "cell_type": "code",
   "execution_count": 3,
   "metadata": {},
   "outputs": [
    {
     "data": {
      "application/vnd.jupyter.widget-view+json": {
       "model_id": "f0498f3079e7418ca1640392f1c00b68",
       "version_major": 2,
       "version_minor": 0
      },
      "text/plain": [
       "HBox(children=(Button(description='H⊗ⁿ', style=ButtonStyle()), Button(description='Oracle', style=ButtonStyle(…"
      ]
     },
     "metadata": {},
     "output_type": "display_data"
    },
    {
     "data": {
      "application/vnd.jupyter.widget-view+json": {
       "model_id": "2a4f12da68ff4c66863eb49260138f50",
       "version_major": 2,
       "version_minor": 0
      },
      "text/plain": [
       "HTMLMath(value='$$ |00\\\\rangle = |00\\\\rangle $$')"
      ]
     },
     "metadata": {},
     "output_type": "display_data"
    },
    {
     "data": {
      "application/vnd.jupyter.widget-view+json": {
       "model_id": "419bf32f44a847a48289b63b19a0e3d0",
       "version_major": 2,
       "version_minor": 0
      },
      "text/plain": [
       "Image(value=b'\\x89PNG\\r\\n\\x1a\\n\\x00\\x00\\x00\\rIHDR\\x00\\x00\\x00\\xce\\x00\\x00\\x00\\xcc\\x08\\x06\\x00\\x00\\x00;\\xd7\\x9c…"
      ]
     },
     "metadata": {},
     "output_type": "display_data"
    }
   ],
   "source": [
    "from qiskit_textbook.widgets import bv_widget\n",
    "bv_widget(2, \"11\")"
   ]
  },
  {
   "cell_type": "code",
   "execution_count": 4,
   "metadata": {},
   "outputs": [],
   "source": [
    "import matplotlib.pyplot as plt\n",
    "import numpy as np\n",
    "from qiskit import IBMQ, BasicAer\n",
    "from qiskit.providers.ibmq import least_busy\n",
    "from qiskit import QuantumCircuit, ClassicalRegister, QuantumRegister, execute\n",
    "from qiskit.visualization import plot_histogram"
   ]
  },
  {
   "cell_type": "code",
   "execution_count": 5,
   "metadata": {},
   "outputs": [],
   "source": [
    "n = 3\n",
    "s = '011'"
   ]
  },
  {
   "cell_type": "code",
   "execution_count": 6,
   "metadata": {},
   "outputs": [
    {
     "data": {
      "text/html": [
       "<pre style=\"word-wrap: normal;white-space: pre;background: #fff0;line-height: 1.1;font-family: &quot;Courier New&quot;,Courier,monospace\">     ┌───┐      ░                 ░ ┌───┐┌─┐      \n",
       "q_0: ┤ H ├──────░───■─────────────░─┤ H ├┤M├──────\n",
       "     ├───┤      ░   │             ░ ├───┤└╥┘┌─┐   \n",
       "q_1: ┤ H ├──────░───┼─────────■───░─┤ H ├─╫─┤M├───\n",
       "     ├───┤┌───┐ ░   │  ┌───┐  │   ░ ├───┤ ║ └╥┘┌─┐\n",
       "q_2: ┤ H ├┤ H ├─░───┼──┤ I ├──┼───░─┤ H ├─╫──╫─┤M├\n",
       "     ├───┤├───┤ ░ ┌─┴─┐└───┘┌─┴─┐ ░ └───┘ ║  ║ └╥┘\n",
       "q_3: ┤ H ├┤ Z ├─░─┤ X ├─────┤ X ├─░───────╫──╫──╫─\n",
       "     └───┘└───┘ ░ └───┘     └───┘ ░       ║  ║  ║ \n",
       "c: 3/═════════════════════════════════════╩══╩══╩═\n",
       "                                          0  1  2 </pre>"
      ],
      "text/plain": [
       "     ┌───┐      ░                 ░ ┌───┐┌─┐      \n",
       "q_0: ┤ H ├──────░───■─────────────░─┤ H ├┤M├──────\n",
       "     ├───┤      ░   │             ░ ├───┤└╥┘┌─┐   \n",
       "q_1: ┤ H ├──────░───┼─────────■───░─┤ H ├─╫─┤M├───\n",
       "     ├───┤┌───┐ ░   │  ┌───┐  │   ░ ├───┤ ║ └╥┘┌─┐\n",
       "q_2: ┤ H ├┤ H ├─░───┼──┤ I ├──┼───░─┤ H ├─╫──╫─┤M├\n",
       "     ├───┤├───┤ ░ ┌─┴─┐└───┘┌─┴─┐ ░ └───┘ ║  ║ └╥┘\n",
       "q_3: ┤ H ├┤ Z ├─░─┤ X ├─────┤ X ├─░───────╫──╫──╫─\n",
       "     └───┘└───┘ ░ └───┘     └───┘ ░       ║  ║  ║ \n",
       "c: 3/═════════════════════════════════════╩══╩══╩═\n",
       "                                          0  1  2 "
      ]
     },
     "execution_count": 6,
     "metadata": {},
     "output_type": "execute_result"
    }
   ],
   "source": [
    "bv_circuit = QuantumCircuit(n+1, n)\n",
    "bv_circuit.h(n)\n",
    "bv_circuit.z(n)\n",
    "for i in range(n):\n",
    "    bv_circuit.h(i)\n",
    "bv_circuit.h(i)\n",
    "bv_circuit.barrier()\n",
    "s = s[::-1]\n",
    "for q in range(n):\n",
    "    if s[q] == '0':\n",
    "        bv_circuit.i(q)\n",
    "    else:\n",
    "        bv_circuit.cx(q, n)\n",
    "bv_circuit.barrier()\n",
    "for i in range(n):\n",
    "    bv_circuit.h(i)\n",
    "for i in range(n):\n",
    "    bv_circuit.measure(i, i)\n",
    "bv_circuit.draw()"
   ]
  },
  {
   "cell_type": "code",
   "execution_count": 8,
   "metadata": {},
   "outputs": [
    {
     "data": {
      "image/png": "[encoded data removed]",
      "text/plain": [
       "<Figure size 504x360 with 1 Axes>"
      ]
     },
     "execution_count": 8,
     "metadata": {},
     "output_type": "execute_result"
    }
   ],
   "source": [
    "backend = BasicAer.get_backend('qasm_simulator')\n",
    "shots = 1024 \n",
    "results = execute(bv_circuit, backend=backend, shots=shots).result()\n",
    "answer = results.get_counts()\n",
    "plot_histogram(answer)"
   ]
  },
  {
   "cell_type": "code",
   "execution_count": null,
   "metadata": {},
   "outputs": [],
   "source": []
  }
 ],
 "metadata": {
  "kernelspec": {
   "display_name": "Python 3",
   "language": "python",
   "name": "python3"
  },
  "language_info": {
   "codemirror_mode": {
    "name": "ipython",
    "version": 3
   },
   "file_extension": ".py",
   "mimetype": "text/x-python",
   "name": "python",
   "nbconvert_exporter": "python",
   "pygments_lexer": "ipython3",
   "version": "3.8.5"
  }
 },
 "nbformat": 4,
 "nbformat_minor": 4
}
